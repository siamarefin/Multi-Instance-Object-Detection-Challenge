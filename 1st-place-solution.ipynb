{
 "cells": [
  {
   "cell_type": "markdown",
   "id": "cd0a751a",
   "metadata": {
    "papermill": {
     "duration": 0.003413,
     "end_time": "2025-07-12T07:03:02.129176",
     "exception": false,
     "start_time": "2025-07-12T07:03:02.125763",
     "status": "completed"
    },
    "tags": []
   },
   "source": [
    "# 🥇 Multi-Instance Object Detection Challenge - 1st Place Solution\n",
    "**Author:** Siam Arefin  \n",
    "**Score:** 0.995 mAP@50 (Private Leaderboard)  \n",
    "**Data:** 100% FalconCloud Synthetic Data Only\n",
    "\n",
    "This notebook explains my full pipeline for training a YOLO-based model on synthetic data generated in FalconCloud, optimized to detect soup cans in real-world test images.\n"
   ]
  },
  {
   "cell_type": "markdown",
   "id": "49028a63",
   "metadata": {
    "papermill": {
     "duration": 0.002477,
     "end_time": "2025-07-12T07:03:02.134544",
     "exception": false,
     "start_time": "2025-07-12T07:03:02.132067",
     "status": "completed"
    },
    "tags": []
   },
   "source": [
    "🙏 Acknowledgments\n",
    "This solution was made possible thanks to the valuable contributions and resources shared by the Kaggle community. I would like to express my sincere gratitude to the following:\n",
    "\n",
    "Ángel Jacinto Sánchez Ruiz\n",
    "📁 Dataset: Falcon Soup Cans\n",
    "For sharing a diverse and well-curated synthetic dataset using FalconCloud.\n",
    "\n",
    "mehul0518 (Owner), Annabelle Min (Editor), Nikhil Reddy (Editor)\n",
    "📁 Dataset: Soup Can\n",
    "For publishing another rich synthetic dataset that helped enhance training diversity.\n",
    "\n",
    "Younes Benalia\n",
    "💡 For code structure and implementation insights that inspired parts of this notebook and training pipeline.\n",
    "\n",
    "🧠 The final training dataset was a merged version of the above two FalconCloud-generated datasets, and all code was adapted while respecting competition rules and original sources.\n",
    "\n",
    "This competition was a great collaborative experience — thank you all!"
   ]
  },
  {
   "cell_type": "markdown",
   "id": "97d4b293",
   "metadata": {
    "papermill": {
     "duration": 0.00254,
     "end_time": "2025-07-12T07:03:02.139578",
     "exception": false,
     "start_time": "2025-07-12T07:03:02.137038",
     "status": "completed"
    },
    "tags": []
   },
   "source": [
    "# Create Yaml file "
   ]
  },
  {
   "cell_type": "code",
   "execution_count": 1,
   "id": "3899fb70",
   "metadata": {
    "execution": {
     "iopub.execute_input": "2025-07-12T07:03:02.146600Z",
     "iopub.status.busy": "2025-07-12T07:03:02.146349Z",
     "iopub.status.idle": "2025-07-12T07:03:03.597400Z",
     "shell.execute_reply": "2025-07-12T07:03:03.596825Z"
    },
    "papermill": {
     "duration": 1.45629,
     "end_time": "2025-07-12T07:03:03.598782",
     "exception": false,
     "start_time": "2025-07-12T07:03:02.142492",
     "status": "completed"
    },
    "tags": []
   },
   "outputs": [],
   "source": [
    "import pandas\n",
    "import yaml\n",
    "\n",
    "data = {\n",
    "    'train': [\n",
    "        '/kaggle/input/soup-can/CAN_Dataset/cameraDistance/train',\n",
    "        '/kaggle/input/soup-can/CAN_Dataset/baseData/train',\n",
    "        '/kaggle/input/soup-can/CAN_Dataset/coolLighting/train',\n",
    "        '/kaggle/input/soup-can/CAN_Dataset/furniture/train',\n",
    "        '/kaggle/input/soup-can/CAN_Dataset/plants/train',\n",
    "        '/kaggle/input/soup-can/CAN_Dataset/genericObjects/train',\n",
    "        '/kaggle/input/soup-can/CAN_Dataset/misclassifications2/train',\n",
    "        '/kaggle/input/soup-can/CAN_Dataset/misclassified-objects/train',\n",
    "        '/kaggle/input/soup-can/CAN_Dataset/outputallcouch/Output/1/train',\n",
    "        '/kaggle/input/soup-can/CAN_Dataset/outputallfridge/Output/1/train',\n",
    "        '/kaggle/input/soup-can/CAN_Dataset/outputallplant/Output/1/train',\n",
    "        '/kaggle/input/soup-can/CAN_Dataset/outputalltable/Output/1/train',\n",
    "        '/kaggle/input/soup-can/CAN_Dataset/outputalltv/Output/1/train',\n",
    "        '/kaggle/input/soup-can/CAN_Dataset/outputcarpet2/Output/1/train',\n",
    "        '/kaggle/input/soup-can/CAN_Dataset/outputcarpet3/Output/1/train',\n",
    "        '/kaggle/input/soup-can/CAN_Dataset/outputcarpet4/Output/1/train',\n",
    "        '/kaggle/input/soup-can/CAN_Dataset/outputcarpet5/Output/1/train',\n",
    "        '/kaggle/input/soup-can/CAN_Dataset/outputcouch2/Output/1/train',\n",
    "        '/kaggle/input/soup-can/CAN_Dataset/outputcouch3/Output/1/train',\n",
    "        '/kaggle/input/soup-can/CAN_Dataset/outputcouch4/Output/1/train',\n",
    "        '/kaggle/input/soup-can/CAN_Dataset/outputcouch5/Output/1/train',\n",
    "        '/kaggle/input/soup-can/CAN_Dataset/outputfridge2/Output/1/train',\n",
    "        '/kaggle/input/soup-can/CAN_Dataset/outputfridge3/Output/1/train',\n",
    "        '/kaggle/input/soup-can/CAN_Dataset/outputfridge4/Output/1/train',\n",
    "        '/kaggle/input/soup-can/CAN_Dataset/outputfridge5/Output/1/train',\n",
    "        '/kaggle/input/soup-can/CAN_Dataset/outputplant2/Output/1/train',\n",
    "        '/kaggle/input/soup-can/CAN_Dataset/outputplant3/Output/1/train',\n",
    "        '/kaggle/input/soup-can/CAN_Dataset/outputplant4/Output/1/train',\n",
    "        '/kaggle/input/soup-can/CAN_Dataset/outputplant5/Output/1/train',\n",
    "        '/kaggle/input/soup-can/CAN_Dataset/outputtable2/Output/1/train',\n",
    "        '/kaggle/input/soup-can/CAN_Dataset/outputtable3/Output/1/train',\n",
    "        '/kaggle/input/soup-can/CAN_Dataset/outputtable4/Output/1/train',\n",
    "        '/kaggle/input/soup-can/CAN_Dataset/outputtable5/Output/1/train',\n",
    "        '/kaggle/input/soup-can/CAN_Dataset/outputtv2/Output/1/train',\n",
    "        '/kaggle/input/soup-can/CAN_Dataset/outputtv3/Output/1/train',\n",
    "        '/kaggle/input/soup-can/CAN_Dataset/outputtv4/Output/1/train',\n",
    "        '/kaggle/input/soup-can/CAN_Dataset/outputtv5/Output/1/train',\n",
    "        '/kaggle/input/soup-can/CAN_Dataset/plants/train',\n",
    "        '/kaggle/input/soup-can/CAN_Dataset/topfridge1/Output/1/train',\n",
    "        '/kaggle/input/soup-can/CAN_Dataset/topfridge2/Output/1/train',\n",
    "        '/kaggle/input/soup-can/CAN_Dataset/topfridge3/Output/1/train',\n",
    "        '/kaggle/input/soup-can/CAN_Dataset/topfridge4/Output/1/train',\n",
    "        '/kaggle/input/soup-can/CAN_Dataset/topfridge5/Output/1/train',\n",
    "        \n",
    "    ],\n",
    "    'val': [\n",
    "        '/kaggle/input/soup-can/CAN_Dataset/cameraDistance/val',\n",
    "        '/kaggle/input/soup-can/CAN_Dataset/baseData/val',\n",
    "        '/kaggle/input/soup-can/CAN_Dataset/coolLighting/val',\n",
    "        '/kaggle/input/soup-can/CAN_Dataset/furniture/val',\n",
    "        '/kaggle/input/soup-can/CAN_Dataset/plants/val',\n",
    "        '/kaggle/input/soup-can/CAN_Dataset/genericObjects/val',\n",
    "        '/kaggle/input/soup-can/CAN_Dataset/misclassifications2/val',\n",
    "        '/kaggle/input/soup-can/CAN_Dataset/misclassified-objects/val',\n",
    "        '/kaggle/input/soup-can/CAN_Dataset/outputallcouch/Output/1/val',\n",
    "        '/kaggle/input/soup-can/CAN_Dataset/outputallfridge/Output/1/val',\n",
    "        '/kaggle/input/soup-can/CAN_Dataset/outputallplant/Output/1/val',\n",
    "        '/kaggle/input/soup-can/CAN_Dataset/outputalltable/Output/1/val',\n",
    "        '/kaggle/input/soup-can/CAN_Dataset/outputalltv/Output/1/val',\n",
    "        '/kaggle/input/soup-can/CAN_Dataset/outputcarpet2/Output/1/val',\n",
    "        '/kaggle/input/soup-can/CAN_Dataset/outputcarpet3/Output/1/val',\n",
    "        '/kaggle/input/soup-can/CAN_Dataset/outputcarpet4/Output/1/val',\n",
    "        '/kaggle/input/soup-can/CAN_Dataset/outputcarpet5/Output/1/val',\n",
    "        '/kaggle/input/soup-can/CAN_Dataset/outputcouch2/Output/1/val',\n",
    "        '/kaggle/input/soup-can/CAN_Dataset/outputcouch3/Output/1/val',\n",
    "        '/kaggle/input/soup-can/CAN_Dataset/outputcouch4/Output/1/val',\n",
    "        '/kaggle/input/soup-can/CAN_Dataset/outputcouch5/Output/1/val',\n",
    "        '/kaggle/input/soup-can/CAN_Dataset/outputfridge2/Output/1/val',\n",
    "        '/kaggle/input/soup-can/CAN_Dataset/outputfridge3/Output/1/val',\n",
    "        '/kaggle/input/soup-can/CAN_Dataset/outputfridge4/Output/1/val',\n",
    "        '/kaggle/input/soup-can/CAN_Dataset/outputfridge5/Output/1/val',\n",
    "        '/kaggle/input/soup-can/CAN_Dataset/outputplant2/Output/1/val',\n",
    "        '/kaggle/input/soup-can/CAN_Dataset/outputplant3/Output/1/val',\n",
    "        '/kaggle/input/soup-can/CAN_Dataset/outputplant4/Output/1/val',\n",
    "        '/kaggle/input/soup-can/CAN_Dataset/outputplant5/Output/1/val',\n",
    "        '/kaggle/input/soup-can/CAN_Dataset/outputtable2/Output/1/val',\n",
    "        '/kaggle/input/soup-can/CAN_Dataset/outputtable3/Output/1/val',\n",
    "        '/kaggle/input/soup-can/CAN_Dataset/outputtable4/Output/1/val',\n",
    "        '/kaggle/input/soup-can/CAN_Dataset/outputtable5/Output/1/val',\n",
    "        '/kaggle/input/soup-can/CAN_Dataset/outputtv2/Output/1/val',\n",
    "        '/kaggle/input/soup-can/CAN_Dataset/outputtv3/Output/1/val',\n",
    "        '/kaggle/input/soup-can/CAN_Dataset/outputtv4/Output/1/val',\n",
    "        '/kaggle/input/soup-can/CAN_Dataset/outputtv5/Output/1/val',\n",
    "        '/kaggle/input/soup-can/CAN_Dataset/plants/val',\n",
    "        '/kaggle/input/soup-can/CAN_Dataset/topfridge1/Output/1/val',\n",
    "        '/kaggle/input/soup-can/CAN_Dataset/topfridge2/Output/1/val',\n",
    "        '/kaggle/input/soup-can/CAN_Dataset/topfridge3/Output/1/val',\n",
    "        '/kaggle/input/soup-can/CAN_Dataset/topfridge4/Output/1/val',\n",
    "        '/kaggle/input/soup-can/CAN_Dataset/topfridge5/Output/1/val',\n",
    "       \n",
    "    ],\n",
    "    'test': '/kaggle/input/kan-dataset/Kan/test_dataset',\n",
    "    'nc': 1,\n",
    "    'names': ['Soup']\n",
    "}\n",
    "\n",
    "with open('yolo_params.yaml', 'w') as file:\n",
    "    yaml.dump(data, file)\n"
   ]
  },
  {
   "cell_type": "code",
   "execution_count": 2,
   "id": "a43c644a",
   "metadata": {
    "_cell_guid": "b1076dfc-b9ad-4769-8c92-a6c4dae69d19",
    "_uuid": "8f2839f25d086af736a60e9eeb907d3b93b6e0e5",
    "execution": {
     "iopub.execute_input": "2025-07-12T07:03:03.605114Z",
     "iopub.status.busy": "2025-07-12T07:03:03.604818Z",
     "iopub.status.idle": "2025-07-12T07:04:28.512013Z",
     "shell.execute_reply": "2025-07-12T07:04:28.511173Z"
    },
    "papermill": {
     "duration": 84.911923,
     "end_time": "2025-07-12T07:04:28.513624",
     "exception": false,
     "start_time": "2025-07-12T07:03:03.601701",
     "status": "completed"
    },
    "tags": []
   },
   "outputs": [],
   "source": [
    "!pip install ultralytics > /dev/null "
   ]
  },
  {
   "cell_type": "code",
   "execution_count": 3,
   "id": "498a34d0",
   "metadata": {
    "execution": {
     "iopub.execute_input": "2025-07-12T07:04:28.520446Z",
     "iopub.status.busy": "2025-07-12T07:04:28.520207Z",
     "iopub.status.idle": "2025-07-12T07:04:35.162178Z",
     "shell.execute_reply": "2025-07-12T07:04:35.161183Z"
    },
    "papermill": {
     "duration": 6.647052,
     "end_time": "2025-07-12T07:04:35.163715",
     "exception": false,
     "start_time": "2025-07-12T07:04:28.516663",
     "status": "completed"
    },
    "tags": []
   },
   "outputs": [],
   "source": [
    "!pip install ensemble-boxes  > /dev/null "
   ]
  },
  {
   "cell_type": "code",
   "execution_count": 4,
   "id": "ab53d3e4",
   "metadata": {
    "execution": {
     "iopub.execute_input": "2025-07-12T07:04:35.170393Z",
     "iopub.status.busy": "2025-07-12T07:04:35.170135Z",
     "iopub.status.idle": "2025-07-12T07:04:38.762327Z",
     "shell.execute_reply": "2025-07-12T07:04:38.761551Z"
    },
    "papermill": {
     "duration": 3.596835,
     "end_time": "2025-07-12T07:04:38.763545",
     "exception": false,
     "start_time": "2025-07-12T07:04:35.166710",
     "status": "completed"
    },
    "tags": []
   },
   "outputs": [
    {
     "name": "stdout",
     "output_type": "stream",
     "text": [
      "Creating new Ultralytics Settings v0.0.6 file ✅ \n",
      "View Ultralytics Settings with 'yolo settings' or at '/root/.config/Ultralytics/settings.json'\n",
      "Update Settings with 'yolo settings key=value', i.e. 'yolo settings runs_dir=path/to/dir'. For help see https://docs.ultralytics.com/quickstart/#ultralytics-settings.\n"
     ]
    },
    {
     "data": {
      "text/plain": [
       "<torch._C.Generator at 0x7f12f22bbe30>"
      ]
     },
     "execution_count": 4,
     "metadata": {},
     "output_type": "execute_result"
    }
   ],
   "source": [
    "import pandas as pd\n",
    "import numpy as np\n",
    "import matplotlib.pyplot as plt\n",
    "from ultralytics import YOLO\n",
    "from pathlib import Path\n",
    "import csv\n",
    "import os\n",
    "import random\n",
    "import torch\n",
    "# Set random seeds for reproducibility\n",
    "np.random.seed(42)\n",
    "random.seed(42)\n",
    "torch.manual_seed(42)"
   ]
  },
  {
   "cell_type": "code",
   "execution_count": null,
   "id": "a1ce82cc",
   "metadata": {
    "papermill": {
     "duration": 0.002645,
     "end_time": "2025-07-12T07:04:38.769189",
     "exception": false,
     "start_time": "2025-07-12T07:04:38.766544",
     "status": "completed"
    },
    "tags": []
   },
   "outputs": [],
   "source": []
  },
  {
   "cell_type": "code",
   "execution_count": 5,
   "id": "6f625d90",
   "metadata": {
    "execution": {
     "iopub.execute_input": "2025-07-12T07:04:38.776070Z",
     "iopub.status.busy": "2025-07-12T07:04:38.775303Z",
     "iopub.status.idle": "2025-07-12T09:16:26.762955Z",
     "shell.execute_reply": "2025-07-12T09:16:26.762113Z"
    },
    "papermill": {
     "duration": 7907.993721,
     "end_time": "2025-07-12T09:16:26.765574",
     "exception": false,
     "start_time": "2025-07-12T07:04:38.771853",
     "status": "completed"
    },
    "tags": []
   },
   "outputs": [
    {
     "name": "stdout",
     "output_type": "stream",
     "text": [
      "Downloading https://github.com/ultralytics/assets/releases/download/v8.3.0/yolo11m.pt to 'yolo11m.pt'...\n"
     ]
    },
    {
     "name": "stderr",
     "output_type": "stream",
     "text": [
      "100%|██████████| 38.8M/38.8M [00:01<00:00, 33.2MB/s]\n"
     ]
    },
    {
     "name": "stdout",
     "output_type": "stream",
     "text": [
      "Ultralytics 8.3.165 🚀 Python-3.11.13 torch-2.6.0+cu124 CUDA:0 (Tesla P100-PCIE-16GB, 16269MiB)\n",
      "\u001b[34m\u001b[1mengine/trainer: \u001b[0magnostic_nms=False, amp=True, augment=False, auto_augment=randaugment, batch=4, bgr=0.0, box=7.5, cache=False, cfg=None, classes=None, close_mosaic=20, cls=0.5, conf=None, copy_paste=0.0, copy_paste_mode=flip, cos_lr=True, cutmix=0.0, data=/kaggle/working/yolo_params.yaml, degrees=0.0, deterministic=True, device=None, dfl=1.5, dnn=False, dropout=0.0, dynamic=False, embed=None, epochs=10, erasing=0.4, exist_ok=False, fliplr=0.5, flipud=0.5, format=torchscript, fraction=1.0, freeze=None, half=False, hsv_h=0.015, hsv_s=0.7, hsv_v=0.4, imgsz=1056, int8=False, iou=0.7, keras=False, kobj=1.0, line_width=None, lr0=0.001, lrf=0.01, mask_ratio=4, max_det=300, mixup=0.0, mode=train, model=yolo11m.pt, momentum=0.937, mosaic=1.0, multi_scale=False, name=train, nbs=64, nms=False, opset=None, optimize=False, optimizer=SGD, overlap_mask=True, patience=150, perspective=0.0, plots=True, pose=12.0, pretrained=True, profile=False, project=None, rect=False, resume=False, retina_masks=False, save=True, save_conf=False, save_crop=False, save_dir=runs/detect/train, save_frames=False, save_json=False, save_period=1, save_txt=False, scale=0.5, seed=0, shear=0.01, show=False, show_boxes=True, show_conf=True, show_labels=True, simplify=True, single_cls=False, source=None, split=val, stream_buffer=False, task=detect, time=None, tracker=botsort.yaml, translate=0.1, val=True, verbose=True, vid_stride=1, visualize=False, warmup_bias_lr=0.1, warmup_epochs=3.0, warmup_momentum=0.8, weight_decay=0.0005, workers=8, workspace=None\n",
      "Downloading https://ultralytics.com/assets/Arial.ttf to '/root/.config/Ultralytics/Arial.ttf'...\n"
     ]
    },
    {
     "name": "stderr",
     "output_type": "stream",
     "text": [
      "100%|██████████| 755k/755k [00:00<00:00, 3.84MB/s]\n"
     ]
    },
    {
     "name": "stdout",
     "output_type": "stream",
     "text": [
      "Overriding model.yaml nc=80 with nc=1\n",
      "\n",
      "                   from  n    params  module                                       arguments                     \n",
      "  0                  -1  1      1856  ultralytics.nn.modules.conv.Conv             [3, 64, 3, 2]                 \n",
      "  1                  -1  1     73984  ultralytics.nn.modules.conv.Conv             [64, 128, 3, 2]               \n",
      "  2                  -1  1    111872  ultralytics.nn.modules.block.C3k2            [128, 256, 1, True, 0.25]     \n",
      "  3                  -1  1    590336  ultralytics.nn.modules.conv.Conv             [256, 256, 3, 2]              \n",
      "  4                  -1  1    444928  ultralytics.nn.modules.block.C3k2            [256, 512, 1, True, 0.25]     \n",
      "  5                  -1  1   2360320  ultralytics.nn.modules.conv.Conv             [512, 512, 3, 2]              \n",
      "  6                  -1  1   1380352  ultralytics.nn.modules.block.C3k2            [512, 512, 1, True]           \n",
      "  7                  -1  1   2360320  ultralytics.nn.modules.conv.Conv             [512, 512, 3, 2]              \n",
      "  8                  -1  1   1380352  ultralytics.nn.modules.block.C3k2            [512, 512, 1, True]           \n",
      "  9                  -1  1    656896  ultralytics.nn.modules.block.SPPF            [512, 512, 5]                 \n",
      " 10                  -1  1    990976  ultralytics.nn.modules.block.C2PSA           [512, 512, 1]                 \n",
      " 11                  -1  1         0  torch.nn.modules.upsampling.Upsample         [None, 2, 'nearest']          \n",
      " 12             [-1, 6]  1         0  ultralytics.nn.modules.conv.Concat           [1]                           \n",
      " 13                  -1  1   1642496  ultralytics.nn.modules.block.C3k2            [1024, 512, 1, True]          \n",
      " 14                  -1  1         0  torch.nn.modules.upsampling.Upsample         [None, 2, 'nearest']          \n",
      " 15             [-1, 4]  1         0  ultralytics.nn.modules.conv.Concat           [1]                           \n",
      " 16                  -1  1    542720  ultralytics.nn.modules.block.C3k2            [1024, 256, 1, True]          \n",
      " 17                  -1  1    590336  ultralytics.nn.modules.conv.Conv             [256, 256, 3, 2]              \n",
      " 18            [-1, 13]  1         0  ultralytics.nn.modules.conv.Concat           [1]                           \n",
      " 19                  -1  1   1511424  ultralytics.nn.modules.block.C3k2            [768, 512, 1, True]           \n",
      " 20                  -1  1   2360320  ultralytics.nn.modules.conv.Conv             [512, 512, 3, 2]              \n",
      " 21            [-1, 10]  1         0  ultralytics.nn.modules.conv.Concat           [1]                           \n",
      " 22                  -1  1   1642496  ultralytics.nn.modules.block.C3k2            [1024, 512, 1, True]          \n",
      " 23        [16, 19, 22]  1   1411795  ultralytics.nn.modules.head.Detect           [1, [256, 512, 512]]          \n",
      "YOLO11m summary: 231 layers, 20,053,779 parameters, 20,053,763 gradients, 68.2 GFLOPs\n",
      "\n",
      "Transferred 643/649 items from pretrained weights\n",
      "Freezing layer 'model.23.dfl.conv.weight'\n",
      "\u001b[34m\u001b[1mAMP: \u001b[0mrunning Automatic Mixed Precision (AMP) checks...\n",
      "Downloading https://github.com/ultralytics/assets/releases/download/v8.3.0/yolo11n.pt to 'yolo11n.pt'...\n"
     ]
    },
    {
     "name": "stderr",
     "output_type": "stream",
     "text": [
      "100%|██████████| 5.35M/5.35M [00:00<00:00, 16.2MB/s]\n"
     ]
    },
    {
     "name": "stdout",
     "output_type": "stream",
     "text": [
      "\u001b[34m\u001b[1mAMP: \u001b[0mchecks passed ✅\n",
      "\u001b[34m\u001b[1mtrain: \u001b[0mFast image access ✅ (ping: 0.8±0.5 ms, read: 93.6±32.2 MB/s, size: 3641.0 KB)\n"
     ]
    },
    {
     "name": "stderr",
     "output_type": "stream",
     "text": [
      "\u001b[34m\u001b[1mtrain: \u001b[0mScanning /kaggle/input/soup-can/CAN_Dataset/baseData/train/labels... 5275 images, 183 backgrounds, 0 corrupt: 100%|██████████| 5275/5275 [01:14<00:00, 70.77it/s]\n"
     ]
    },
    {
     "name": "stdout",
     "output_type": "stream",
     "text": [
      "WARNING ⚠️ \u001b[34m\u001b[1mtrain: \u001b[0mCache directory /kaggle/input/soup-can/CAN_Dataset/baseData/train is not writeable, cache not saved.\n",
      "\u001b[34m\u001b[1malbumentations: \u001b[0mBlur(p=0.01, blur_limit=(3, 7)), MedianBlur(p=0.01, blur_limit=(3, 7)), ToGray(p=0.01, method='weighted_average', num_output_channels=3), CLAHE(p=0.01, clip_limit=(1.0, 4.0), tile_grid_size=(8, 8))\n",
      "\u001b[34m\u001b[1mval: \u001b[0mFast image access ✅ (ping: 0.0±0.0 ms, read: 66.8±47.6 MB/s, size: 3562.0 KB)\n"
     ]
    },
    {
     "name": "stderr",
     "output_type": "stream",
     "text": [
      "\u001b[34m\u001b[1mval: \u001b[0mScanning /kaggle/input/soup-can/CAN_Dataset/baseData/val/labels... 760 images, 21 backgrounds, 0 corrupt: 100%|██████████| 760/760 [00:11<00:00, 64.62it/s]\n"
     ]
    },
    {
     "name": "stdout",
     "output_type": "stream",
     "text": [
      "WARNING ⚠️ \u001b[34m\u001b[1mval: \u001b[0mCache directory /kaggle/input/soup-can/CAN_Dataset/baseData/val is not writeable, cache not saved.\n",
      "Plotting labels to runs/detect/train/labels.jpg... \n",
      "\u001b[34m\u001b[1moptimizer:\u001b[0m SGD(lr=0.001, momentum=0.937) with parameter groups 106 weight(decay=0.0), 113 weight(decay=0.0005), 112 bias(decay=0.0)\n",
      "Image sizes 1056 train, 1056 val\n",
      "Using 4 dataloader workers\n",
      "Logging results to \u001b[1mruns/detect/train\u001b[0m\n",
      "Starting training for 10 epochs...\n",
      "\n",
      "      Epoch    GPU_mem   box_loss   cls_loss   dfl_loss  Instances       Size\n"
     ]
    },
    {
     "name": "stderr",
     "output_type": "stream",
     "text": [
      "       1/10      5.89G     0.3653     0.9098     0.8876         13       1056: 100%|██████████| 1319/1319 [12:37<00:00,  1.74it/s]\n",
      "                 Class     Images  Instances      Box(P          R      mAP50  mAP50-95): 100%|██████████| 95/95 [00:26<00:00,  3.58it/s]"
     ]
    },
    {
     "name": "stdout",
     "output_type": "stream",
     "text": [
      "                   all        760       1021      0.987      0.948      0.979      0.968\n"
     ]
    },
    {
     "name": "stderr",
     "output_type": "stream",
     "text": [
      "\n"
     ]
    },
    {
     "name": "stdout",
     "output_type": "stream",
     "text": [
      "\n",
      "      Epoch    GPU_mem   box_loss   cls_loss   dfl_loss  Instances       Size\n"
     ]
    },
    {
     "name": "stderr",
     "output_type": "stream",
     "text": [
      "       2/10      6.79G     0.3132     0.3407     0.8491          7       1056: 100%|██████████| 1319/1319 [12:27<00:00,  1.76it/s]\n",
      "                 Class     Images  Instances      Box(P          R      mAP50  mAP50-95): 100%|██████████| 95/95 [00:24<00:00,  3.81it/s]"
     ]
    },
    {
     "name": "stdout",
     "output_type": "stream",
     "text": [
      "                   all        760       1021      0.995      0.965       0.99      0.975\n"
     ]
    },
    {
     "name": "stderr",
     "output_type": "stream",
     "text": [
      "\n"
     ]
    },
    {
     "name": "stdout",
     "output_type": "stream",
     "text": [
      "\n",
      "      Epoch    GPU_mem   box_loss   cls_loss   dfl_loss  Instances       Size\n"
     ]
    },
    {
     "name": "stderr",
     "output_type": "stream",
     "text": [
      "       3/10      6.81G      0.318     0.3057     0.8445          9       1056: 100%|██████████| 1319/1319 [12:25<00:00,  1.77it/s]\n",
      "                 Class     Images  Instances      Box(P          R      mAP50  mAP50-95): 100%|██████████| 95/95 [00:24<00:00,  3.87it/s]"
     ]
    },
    {
     "name": "stdout",
     "output_type": "stream",
     "text": [
      "                   all        760       1021      0.993      0.972      0.992      0.974\n"
     ]
    },
    {
     "name": "stderr",
     "output_type": "stream",
     "text": [
      "\n"
     ]
    },
    {
     "name": "stdout",
     "output_type": "stream",
     "text": [
      "\n",
      "      Epoch    GPU_mem   box_loss   cls_loss   dfl_loss  Instances       Size\n"
     ]
    },
    {
     "name": "stderr",
     "output_type": "stream",
     "text": [
      "       4/10      6.81G     0.3097     0.2936     0.8332         15       1056: 100%|██████████| 1319/1319 [12:24<00:00,  1.77it/s]\n",
      "                 Class     Images  Instances      Box(P          R      mAP50  mAP50-95): 100%|██████████| 95/95 [00:24<00:00,  3.82it/s]"
     ]
    },
    {
     "name": "stdout",
     "output_type": "stream",
     "text": [
      "                   all        760       1021      0.988      0.971      0.986      0.975\n"
     ]
    },
    {
     "name": "stderr",
     "output_type": "stream",
     "text": [
      "\n"
     ]
    },
    {
     "name": "stdout",
     "output_type": "stream",
     "text": [
      "\n",
      "      Epoch    GPU_mem   box_loss   cls_loss   dfl_loss  Instances       Size\n"
     ]
    },
    {
     "name": "stderr",
     "output_type": "stream",
     "text": [
      "       5/10      6.83G     0.2981     0.2669     0.8292         11       1056: 100%|██████████| 1319/1319 [12:24<00:00,  1.77it/s]\n",
      "                 Class     Images  Instances      Box(P          R      mAP50  mAP50-95): 100%|██████████| 95/95 [00:24<00:00,  3.85it/s]"
     ]
    },
    {
     "name": "stdout",
     "output_type": "stream",
     "text": [
      "                   all        760       1021      0.994      0.965      0.991      0.976\n"
     ]
    },
    {
     "name": "stderr",
     "output_type": "stream",
     "text": [
      "\n"
     ]
    },
    {
     "name": "stdout",
     "output_type": "stream",
     "text": [
      "\n",
      "      Epoch    GPU_mem   box_loss   cls_loss   dfl_loss  Instances       Size\n"
     ]
    },
    {
     "name": "stderr",
     "output_type": "stream",
     "text": [
      "       6/10      6.87G     0.2846     0.2482     0.8279          7       1056: 100%|██████████| 1319/1319 [12:24<00:00,  1.77it/s]\n",
      "                 Class     Images  Instances      Box(P          R      mAP50  mAP50-95): 100%|██████████| 95/95 [00:24<00:00,  3.89it/s]"
     ]
    },
    {
     "name": "stdout",
     "output_type": "stream",
     "text": [
      "                   all        760       1021      0.992      0.976      0.994      0.979\n"
     ]
    },
    {
     "name": "stderr",
     "output_type": "stream",
     "text": [
      "\n"
     ]
    },
    {
     "name": "stdout",
     "output_type": "stream",
     "text": [
      "\n",
      "      Epoch    GPU_mem   box_loss   cls_loss   dfl_loss  Instances       Size\n"
     ]
    },
    {
     "name": "stderr",
     "output_type": "stream",
     "text": [
      "       7/10      6.89G     0.2675     0.2255     0.8241         13       1056: 100%|██████████| 1319/1319 [12:25<00:00,  1.77it/s]\n",
      "                 Class     Images  Instances      Box(P          R      mAP50  mAP50-95): 100%|██████████| 95/95 [00:24<00:00,  3.84it/s]"
     ]
    },
    {
     "name": "stdout",
     "output_type": "stream",
     "text": [
      "                   all        760       1021      0.998      0.967      0.994      0.981\n"
     ]
    },
    {
     "name": "stderr",
     "output_type": "stream",
     "text": [
      "\n"
     ]
    },
    {
     "name": "stdout",
     "output_type": "stream",
     "text": [
      "\n",
      "      Epoch    GPU_mem   box_loss   cls_loss   dfl_loss  Instances       Size\n"
     ]
    },
    {
     "name": "stderr",
     "output_type": "stream",
     "text": [
      "       8/10      6.89G     0.2553     0.2129     0.8177          4       1056: 100%|██████████| 1319/1319 [12:25<00:00,  1.77it/s]\n",
      "                 Class     Images  Instances      Box(P          R      mAP50  mAP50-95): 100%|██████████| 95/95 [00:25<00:00,  3.78it/s]"
     ]
    },
    {
     "name": "stdout",
     "output_type": "stream",
     "text": [
      "                   all        760       1021      0.989      0.976      0.994      0.983\n"
     ]
    },
    {
     "name": "stderr",
     "output_type": "stream",
     "text": [
      "\n"
     ]
    },
    {
     "name": "stdout",
     "output_type": "stream",
     "text": [
      "\n",
      "      Epoch    GPU_mem   box_loss   cls_loss   dfl_loss  Instances       Size\n"
     ]
    },
    {
     "name": "stderr",
     "output_type": "stream",
     "text": [
      "       9/10      6.89G     0.2485     0.1998     0.8171          6       1056: 100%|██████████| 1319/1319 [12:25<00:00,  1.77it/s]\n",
      "                 Class     Images  Instances      Box(P          R      mAP50  mAP50-95): 100%|██████████| 95/95 [00:24<00:00,  3.89it/s]"
     ]
    },
    {
     "name": "stdout",
     "output_type": "stream",
     "text": [
      "                   all        760       1021      0.997      0.971      0.994      0.982\n"
     ]
    },
    {
     "name": "stderr",
     "output_type": "stream",
     "text": [
      "\n"
     ]
    },
    {
     "name": "stdout",
     "output_type": "stream",
     "text": [
      "\n",
      "      Epoch    GPU_mem   box_loss   cls_loss   dfl_loss  Instances       Size\n"
     ]
    },
    {
     "name": "stderr",
     "output_type": "stream",
     "text": [
      "      10/10      6.89G     0.2446     0.1941     0.8153          8       1056: 100%|██████████| 1319/1319 [12:25<00:00,  1.77it/s]\n",
      "                 Class     Images  Instances      Box(P          R      mAP50  mAP50-95): 100%|██████████| 95/95 [00:24<00:00,  3.85it/s]"
     ]
    },
    {
     "name": "stdout",
     "output_type": "stream",
     "text": [
      "                   all        760       1021      0.986      0.983      0.994      0.982\n"
     ]
    },
    {
     "name": "stderr",
     "output_type": "stream",
     "text": [
      "\n"
     ]
    },
    {
     "name": "stdout",
     "output_type": "stream",
     "text": [
      "\n",
      "10 epochs completed in 2.146 hours.\n",
      "Optimizer stripped from runs/detect/train/weights/last.pt, 40.6MB\n",
      "Optimizer stripped from runs/detect/train/weights/best.pt, 40.6MB\n",
      "\n",
      "Validating runs/detect/train/weights/best.pt...\n",
      "Ultralytics 8.3.165 🚀 Python-3.11.13 torch-2.6.0+cu124 CUDA:0 (Tesla P100-PCIE-16GB, 16269MiB)\n",
      "YOLO11m summary (fused): 125 layers, 20,030,803 parameters, 0 gradients, 67.6 GFLOPs\n"
     ]
    },
    {
     "name": "stderr",
     "output_type": "stream",
     "text": [
      "                 Class     Images  Instances      Box(P          R      mAP50  mAP50-95): 100%|██████████| 95/95 [00:24<00:00,  3.85it/s]\n",
      "/usr/local/lib/python3.11/dist-packages/matplotlib/colors.py:721: RuntimeWarning: invalid value encountered in less\n",
      "  xa[xa < 0] = -1\n",
      "/usr/local/lib/python3.11/dist-packages/matplotlib/colors.py:721: RuntimeWarning: invalid value encountered in less\n",
      "  xa[xa < 0] = -1\n"
     ]
    },
    {
     "name": "stdout",
     "output_type": "stream",
     "text": [
      "                   all        760       1021      0.988      0.976      0.994      0.983\n",
      "Speed: 0.3ms preprocess, 21.8ms inference, 0.0ms loss, 1.7ms postprocess per image\n",
      "Results saved to \u001b[1mruns/detect/train\u001b[0m\n"
     ]
    },
    {
     "data": {
      "text/plain": [
       "ultralytics.utils.metrics.DetMetrics object with attributes:\n",
       "\n",
       "ap_class_index: array([0])\n",
       "box: ultralytics.utils.metrics.Metric object\n",
       "confusion_matrix: <ultralytics.utils.metrics.ConfusionMatrix object at 0x7f120af69850>\n",
       "curves: ['Precision-Recall(B)', 'F1-Confidence(B)', 'Precision-Confidence(B)', 'Recall-Confidence(B)']\n",
       "curves_results: [[array([          0,    0.001001,    0.002002,    0.003003,    0.004004,    0.005005,    0.006006,    0.007007,    0.008008,    0.009009,     0.01001,    0.011011,    0.012012,    0.013013,    0.014014,    0.015015,    0.016016,    0.017017,    0.018018,    0.019019,     0.02002,    0.021021,    0.022022,    0.023023,\n",
       "          0.024024,    0.025025,    0.026026,    0.027027,    0.028028,    0.029029,     0.03003,    0.031031,    0.032032,    0.033033,    0.034034,    0.035035,    0.036036,    0.037037,    0.038038,    0.039039,     0.04004,    0.041041,    0.042042,    0.043043,    0.044044,    0.045045,    0.046046,    0.047047,\n",
       "          0.048048,    0.049049,     0.05005,    0.051051,    0.052052,    0.053053,    0.054054,    0.055055,    0.056056,    0.057057,    0.058058,    0.059059,     0.06006,    0.061061,    0.062062,    0.063063,    0.064064,    0.065065,    0.066066,    0.067067,    0.068068,    0.069069,     0.07007,    0.071071,\n",
       "          0.072072,    0.073073,    0.074074,    0.075075,    0.076076,    0.077077,    0.078078,    0.079079,     0.08008,    0.081081,    0.082082,    0.083083,    0.084084,    0.085085,    0.086086,    0.087087,    0.088088,    0.089089,     0.09009,    0.091091,    0.092092,    0.093093,    0.094094,    0.095095,\n",
       "          0.096096,    0.097097,    0.098098,    0.099099,      0.1001,      0.1011,      0.1021,      0.1031,      0.1041,     0.10511,     0.10611,     0.10711,     0.10811,     0.10911,     0.11011,     0.11111,     0.11211,     0.11311,     0.11411,     0.11512,     0.11612,     0.11712,     0.11812,     0.11912,\n",
       "           0.12012,     0.12112,     0.12212,     0.12312,     0.12412,     0.12513,     0.12613,     0.12713,     0.12813,     0.12913,     0.13013,     0.13113,     0.13213,     0.13313,     0.13413,     0.13514,     0.13614,     0.13714,     0.13814,     0.13914,     0.14014,     0.14114,     0.14214,     0.14314,\n",
       "           0.14414,     0.14515,     0.14615,     0.14715,     0.14815,     0.14915,     0.15015,     0.15115,     0.15215,     0.15315,     0.15415,     0.15516,     0.15616,     0.15716,     0.15816,     0.15916,     0.16016,     0.16116,     0.16216,     0.16316,     0.16416,     0.16517,     0.16617,     0.16717,\n",
       "           0.16817,     0.16917,     0.17017,     0.17117,     0.17217,     0.17317,     0.17417,     0.17518,     0.17618,     0.17718,     0.17818,     0.17918,     0.18018,     0.18118,     0.18218,     0.18318,     0.18418,     0.18519,     0.18619,     0.18719,     0.18819,     0.18919,     0.19019,     0.19119,\n",
       "           0.19219,     0.19319,     0.19419,      0.1952,      0.1962,      0.1972,      0.1982,      0.1992,      0.2002,      0.2012,      0.2022,      0.2032,      0.2042,     0.20521,     0.20621,     0.20721,     0.20821,     0.20921,     0.21021,     0.21121,     0.21221,     0.21321,     0.21421,     0.21522,\n",
       "           0.21622,     0.21722,     0.21822,     0.21922,     0.22022,     0.22122,     0.22222,     0.22322,     0.22422,     0.22523,     0.22623,     0.22723,     0.22823,     0.22923,     0.23023,     0.23123,     0.23223,     0.23323,     0.23423,     0.23524,     0.23624,     0.23724,     0.23824,     0.23924,\n",
       "           0.24024,     0.24124,     0.24224,     0.24324,     0.24424,     0.24525,     0.24625,     0.24725,     0.24825,     0.24925,     0.25025,     0.25125,     0.25225,     0.25325,     0.25425,     0.25526,     0.25626,     0.25726,     0.25826,     0.25926,     0.26026,     0.26126,     0.26226,     0.26326,\n",
       "           0.26426,     0.26527,     0.26627,     0.26727,     0.26827,     0.26927,     0.27027,     0.27127,     0.27227,     0.27327,     0.27427,     0.27528,     0.27628,     0.27728,     0.27828,     0.27928,     0.28028,     0.28128,     0.28228,     0.28328,     0.28428,     0.28529,     0.28629,     0.28729,\n",
       "           0.28829,     0.28929,     0.29029,     0.29129,     0.29229,     0.29329,     0.29429,      0.2953,      0.2963,      0.2973,      0.2983,      0.2993,      0.3003,      0.3013,      0.3023,      0.3033,      0.3043,     0.30531,     0.30631,     0.30731,     0.30831,     0.30931,     0.31031,     0.31131,\n",
       "           0.31231,     0.31331,     0.31431,     0.31532,     0.31632,     0.31732,     0.31832,     0.31932,     0.32032,     0.32132,     0.32232,     0.32332,     0.32432,     0.32533,     0.32633,     0.32733,     0.32833,     0.32933,     0.33033,     0.33133,     0.33233,     0.33333,     0.33433,     0.33534,\n",
       "           0.33634,     0.33734,     0.33834,     0.33934,     0.34034,     0.34134,     0.34234,     0.34334,     0.34434,     0.34535,     0.34635,     0.34735,     0.34835,     0.34935,     0.35035,     0.35135,     0.35235,     0.35335,     0.35435,     0.35536,     0.35636,     0.35736,     0.35836,     0.35936,\n",
       "           0.36036,     0.36136,     0.36236,     0.36336,     0.36436,     0.36537,     0.36637,     0.36737,     0.36837,     0.36937,     0.37037,     0.37137,     0.37237,     0.37337,     0.37437,     0.37538,     0.37638,     0.37738,     0.37838,     0.37938,     0.38038,     0.38138,     0.38238,     0.38338,\n",
       "           0.38438,     0.38539,     0.38639,     0.38739,     0.38839,     0.38939,     0.39039,     0.39139,     0.39239,     0.39339,     0.39439,      0.3954,      0.3964,      0.3974,      0.3984,      0.3994,      0.4004,      0.4014,      0.4024,      0.4034,      0.4044,     0.40541,     0.40641,     0.40741,\n",
       "           0.40841,     0.40941,     0.41041,     0.41141,     0.41241,     0.41341,     0.41441,     0.41542,     0.41642,     0.41742,     0.41842,     0.41942,     0.42042,     0.42142,     0.42242,     0.42342,     0.42442,     0.42543,     0.42643,     0.42743,     0.42843,     0.42943,     0.43043,     0.43143,\n",
       "           0.43243,     0.43343,     0.43443,     0.43544,     0.43644,     0.43744,     0.43844,     0.43944,     0.44044,     0.44144,     0.44244,     0.44344,     0.44444,     0.44545,     0.44645,     0.44745,     0.44845,     0.44945,     0.45045,     0.45145,     0.45245,     0.45345,     0.45445,     0.45546,\n",
       "           0.45646,     0.45746,     0.45846,     0.45946,     0.46046,     0.46146,     0.46246,     0.46346,     0.46446,     0.46547,     0.46647,     0.46747,     0.46847,     0.46947,     0.47047,     0.47147,     0.47247,     0.47347,     0.47447,     0.47548,     0.47648,     0.47748,     0.47848,     0.47948,\n",
       "           0.48048,     0.48148,     0.48248,     0.48348,     0.48448,     0.48549,     0.48649,     0.48749,     0.48849,     0.48949,     0.49049,     0.49149,     0.49249,     0.49349,     0.49449,      0.4955,      0.4965,      0.4975,      0.4985,      0.4995,      0.5005,      0.5015,      0.5025,      0.5035,\n",
       "            0.5045,     0.50551,     0.50651,     0.50751,     0.50851,     0.50951,     0.51051,     0.51151,     0.51251,     0.51351,     0.51451,     0.51552,     0.51652,     0.51752,     0.51852,     0.51952,     0.52052,     0.52152,     0.52252,     0.52352,     0.52452,     0.52553,     0.52653,     0.52753,\n",
       "           0.52853,     0.52953,     0.53053,     0.53153,     0.53253,     0.53353,     0.53453,     0.53554,     0.53654,     0.53754,     0.53854,     0.53954,     0.54054,     0.54154,     0.54254,     0.54354,     0.54454,     0.54555,     0.54655,     0.54755,     0.54855,     0.54955,     0.55055,     0.55155,\n",
       "           0.55255,     0.55355,     0.55455,     0.55556,     0.55656,     0.55756,     0.55856,     0.55956,     0.56056,     0.56156,     0.56256,     0.56356,     0.56456,     0.56557,     0.56657,     0.56757,     0.56857,     0.56957,     0.57057,     0.57157,     0.57257,     0.57357,     0.57457,     0.57558,\n",
       "           0.57658,     0.57758,     0.57858,     0.57958,     0.58058,     0.58158,     0.58258,     0.58358,     0.58458,     0.58559,     0.58659,     0.58759,     0.58859,     0.58959,     0.59059,     0.59159,     0.59259,     0.59359,     0.59459,      0.5956,      0.5966,      0.5976,      0.5986,      0.5996,\n",
       "            0.6006,      0.6016,      0.6026,      0.6036,      0.6046,     0.60561,     0.60661,     0.60761,     0.60861,     0.60961,     0.61061,     0.61161,     0.61261,     0.61361,     0.61461,     0.61562,     0.61662,     0.61762,     0.61862,     0.61962,     0.62062,     0.62162,     0.62262,     0.62362,\n",
       "           0.62462,     0.62563,     0.62663,     0.62763,     0.62863,     0.62963,     0.63063,     0.63163,     0.63263,     0.63363,     0.63463,     0.63564,     0.63664,     0.63764,     0.63864,     0.63964,     0.64064,     0.64164,     0.64264,     0.64364,     0.64464,     0.64565,     0.64665,     0.64765,\n",
       "           0.64865,     0.64965,     0.65065,     0.65165,     0.65265,     0.65365,     0.65465,     0.65566,     0.65666,     0.65766,     0.65866,     0.65966,     0.66066,     0.66166,     0.66266,     0.66366,     0.66466,     0.66567,     0.66667,     0.66767,     0.66867,     0.66967,     0.67067,     0.67167,\n",
       "           0.67267,     0.67367,     0.67467,     0.67568,     0.67668,     0.67768,     0.67868,     0.67968,     0.68068,     0.68168,     0.68268,     0.68368,     0.68468,     0.68569,     0.68669,     0.68769,     0.68869,     0.68969,     0.69069,     0.69169,     0.69269,     0.69369,     0.69469,      0.6957,\n",
       "            0.6967,      0.6977,      0.6987,      0.6997,      0.7007,      0.7017,      0.7027,      0.7037,      0.7047,     0.70571,     0.70671,     0.70771,     0.70871,     0.70971,     0.71071,     0.71171,     0.71271,     0.71371,     0.71471,     0.71572,     0.71672,     0.71772,     0.71872,     0.71972,\n",
       "           0.72072,     0.72172,     0.72272,     0.72372,     0.72472,     0.72573,     0.72673,     0.72773,     0.72873,     0.72973,     0.73073,     0.73173,     0.73273,     0.73373,     0.73473,     0.73574,     0.73674,     0.73774,     0.73874,     0.73974,     0.74074,     0.74174,     0.74274,     0.74374,\n",
       "           0.74474,     0.74575,     0.74675,     0.74775,     0.74875,     0.74975,     0.75075,     0.75175,     0.75275,     0.75375,     0.75475,     0.75576,     0.75676,     0.75776,     0.75876,     0.75976,     0.76076,     0.76176,     0.76276,     0.76376,     0.76476,     0.76577,     0.76677,     0.76777,\n",
       "           0.76877,     0.76977,     0.77077,     0.77177,     0.77277,     0.77377,     0.77477,     0.77578,     0.77678,     0.77778,     0.77878,     0.77978,     0.78078,     0.78178,     0.78278,     0.78378,     0.78478,     0.78579,     0.78679,     0.78779,     0.78879,     0.78979,     0.79079,     0.79179,\n",
       "           0.79279,     0.79379,     0.79479,      0.7958,      0.7968,      0.7978,      0.7988,      0.7998,      0.8008,      0.8018,      0.8028,      0.8038,      0.8048,     0.80581,     0.80681,     0.80781,     0.80881,     0.80981,     0.81081,     0.81181,     0.81281,     0.81381,     0.81481,     0.81582,\n",
       "           0.81682,     0.81782,     0.81882,     0.81982,     0.82082,     0.82182,     0.82282,     0.82382,     0.82482,     0.82583,     0.82683,     0.82783,     0.82883,     0.82983,     0.83083,     0.83183,     0.83283,     0.83383,     0.83483,     0.83584,     0.83684,     0.83784,     0.83884,     0.83984,\n",
       "           0.84084,     0.84184,     0.84284,     0.84384,     0.84484,     0.84585,     0.84685,     0.84785,     0.84885,     0.84985,     0.85085,     0.85185,     0.85285,     0.85385,     0.85485,     0.85586,     0.85686,     0.85786,     0.85886,     0.85986,     0.86086,     0.86186,     0.86286,     0.86386,\n",
       "           0.86486,     0.86587,     0.86687,     0.86787,     0.86887,     0.86987,     0.87087,     0.87187,     0.87287,     0.87387,     0.87487,     0.87588,     0.87688,     0.87788,     0.87888,     0.87988,     0.88088,     0.88188,     0.88288,     0.88388,     0.88488,     0.88589,     0.88689,     0.88789,\n",
       "           0.88889,     0.88989,     0.89089,     0.89189,     0.89289,     0.89389,     0.89489,      0.8959,      0.8969,      0.8979,      0.8989,      0.8999,      0.9009,      0.9019,      0.9029,      0.9039,      0.9049,     0.90591,     0.90691,     0.90791,     0.90891,     0.90991,     0.91091,     0.91191,\n",
       "           0.91291,     0.91391,     0.91491,     0.91592,     0.91692,     0.91792,     0.91892,     0.91992,     0.92092,     0.92192,     0.92292,     0.92392,     0.92492,     0.92593,     0.92693,     0.92793,     0.92893,     0.92993,     0.93093,     0.93193,     0.93293,     0.93393,     0.93493,     0.93594,\n",
       "           0.93694,     0.93794,     0.93894,     0.93994,     0.94094,     0.94194,     0.94294,     0.94394,     0.94494,     0.94595,     0.94695,     0.94795,     0.94895,     0.94995,     0.95095,     0.95195,     0.95295,     0.95395,     0.95495,     0.95596,     0.95696,     0.95796,     0.95896,     0.95996,\n",
       "           0.96096,     0.96196,     0.96296,     0.96396,     0.96496,     0.96597,     0.96697,     0.96797,     0.96897,     0.96997,     0.97097,     0.97197,     0.97297,     0.97397,     0.97497,     0.97598,     0.97698,     0.97798,     0.97898,     0.97998,     0.98098,     0.98198,     0.98298,     0.98398,\n",
       "           0.98498,     0.98599,     0.98699,     0.98799,     0.98899,     0.98999,     0.99099,     0.99199,     0.99299,     0.99399,     0.99499,       0.996,       0.997,       0.998,       0.999,           1]), array([[          1,           1,           1,           1,           1,           1,           1,           1,           1,           1,           1,           1,           1,           1,           1,           1,           1,           1,           1,           1,           1,           1,           1,\n",
       "                  1,           1,           1,           1,           1,           1,           1,           1,           1,           1,           1,           1,           1,           1,           1,           1,           1,           1,           1,           1,           1,           1,           1,\n",
       "                  1,           1,           1,           1,           1,           1,           1,           1,           1,           1,           1,           1,           1,           1,           1,           1,           1,           1,           1,           1,           1,           1,           1,\n",
       "                  1,           1,           1,           1,           1,           1,           1,           1,           1,           1,           1,           1,           1,           1,           1,           1,           1,           1,           1,           1,           1,           1,           1,\n",
       "                  1,           1,           1,           1,           1,           1,           1,           1,           1,           1,           1,           1,           1,           1,           1,           1,           1,           1,           1,           1,           1,           1,           1,\n",
       "                  1,           1,           1,           1,           1,           1,           1,           1,           1,           1,           1,           1,           1,           1,           1,           1,           1,           1,           1,           1,           1,           1,           1,\n",
       "                  1,           1,           1,           1,           1,           1,           1,           1,           1,           1,           1,           1,           1,           1,           1,           1,           1,           1,           1,           1,           1,           1,           1,\n",
       "                  1,           1,           1,           1,           1,           1,           1,           1,           1,           1,           1,           1,           1,           1,           1,           1,           1,           1,           1,           1,           1,           1,           1,\n",
       "                  1,           1,           1,           1,           1,           1,           1,           1,           1,           1,           1,           1,           1,           1,           1,           1,           1,           1,           1,           1,           1,           1,           1,\n",
       "                  1,           1,           1,           1,           1,           1,           1,           1,           1,           1,           1,           1,           1,           1,           1,           1,           1,           1,           1,           1,           1,           1,           1,\n",
       "                  1,           1,           1,           1,           1,           1,           1,           1,           1,           1,           1,           1,           1,           1,           1,           1,           1,           1,           1,           1,           1,           1,           1,\n",
       "                  1,           1,           1,           1,           1,           1,           1,           1,           1,           1,           1,           1,           1,           1,           1,           1,           1,           1,           1,           1,           1,           1,           1,\n",
       "                  1,           1,           1,           1,           1,           1,           1,           1,           1,           1,           1,           1,           1,           1,           1,           1,           1,           1,           1,           1,           1,           1,           1,\n",
       "                  1,           1,           1,           1,           1,           1,           1,           1,           1,           1,           1,           1,           1,           1,           1,           1,           1,           1,           1,           1,           1,           1,           1,\n",
       "                  1,           1,           1,           1,           1,           1,           1,           1,           1,           1,           1,           1,           1,           1,           1,           1,           1,           1,           1,           1,           1,           1,           1,\n",
       "                  1,           1,           1,           1,           1,           1,           1,           1,           1,           1,           1,           1,           1,           1,           1,           1,           1,           1,           1,           1,           1,           1,           1,\n",
       "                  1,           1,           1,           1,           1,           1,           1,           1,           1,           1,           1,           1,           1,           1,           1,           1,           1,           1,           1,           1,           1,           1,           1,\n",
       "                  1,           1,           1,           1,           1,           1,           1,           1,           1,           1,           1,           1,           1,           1,           1,           1,           1,           1,           1,           1,           1,           1,           1,\n",
       "                  1,           1,           1,           1,           1,           1,           1,           1,           1,           1,           1,           1,           1,           1,           1,           1,           1,           1,           1,           1,           1,           1,           1,\n",
       "                  1,           1,           1,           1,           1,           1,           1,           1,           1,           1,           1,           1,           1,           1,           1,           1,           1,           1,           1,           1,           1,           1,           1,\n",
       "                  1,           1,           1,           1,           1,           1,           1,           1,           1,           1,           1,           1,           1,           1,           1,           1,           1,           1,           1,           1,           1,           1,           1,\n",
       "                  1,           1,           1,           1,           1,           1,           1,           1,           1,           1,           1,           1,           1,           1,           1,           1,           1,           1,           1,           1,           1,           1,           1,\n",
       "                  1,           1,           1,           1,           1,           1,           1,           1,           1,           1,           1,           1,           1,           1,           1,           1,           1,           1,           1,           1,           1,           1,           1,\n",
       "                  1,           1,           1,           1,           1,           1,           1,           1,           1,           1,           1,           1,           1,           1,           1,           1,           1,           1,           1,           1,           1,           1,           1,\n",
       "                  1,           1,           1,           1,           1,           1,           1,           1,           1,           1,           1,           1,           1,           1,           1,           1,           1,           1,           1,           1,           1,           1,           1,\n",
       "                  1,           1,           1,           1,           1,           1,           1,           1,           1,           1,           1,           1,           1,           1,           1,           1,           1,           1,           1,           1,           1,           1,           1,\n",
       "                  1,           1,           1,           1,           1,           1,           1,           1,           1,           1,           1,           1,           1,           1,           1,           1,           1,           1,           1,           1,           1,           1,           1,\n",
       "                  1,           1,           1,           1,           1,           1,           1,           1,           1,           1,           1,           1,           1,           1,           1,           1,           1,           1,           1,           1,           1,           1,           1,\n",
       "                  1,           1,           1,           1,           1,           1,           1,           1,           1,           1,           1,           1,           1,           1,           1,           1,           1,           1,           1,           1,           1,           1,           1,\n",
       "                  1,           1,           1,           1,           1,           1,           1,           1,           1,           1,           1,           1,           1,           1,           1,           1,           1,           1,           1,           1,           1,           1,           1,\n",
       "                  1,           1,           1,           1,           1,           1,           1,           1,           1,           1,           1,           1,           1,           1,           1,           1,           1,           1,           1,           1,           1,           1,           1,\n",
       "                  1,           1,           1,           1,           1,           1,           1,           1,           1,           1,           1,           1,           1,           1,           1,           1,           1,           1,           1,           1,           1,           1,           1,\n",
       "                  1,           1,           1,           1,           1,           1,           1,           1,           1,           1,           1,           1,           1,           1,           1,           1,           1,           1,           1,           1,           1,           1,           1,\n",
       "                  1,           1,           1,           1,           1,           1,           1,           1,           1,           1,           1,           1,           1,           1,           1,           1,           1,           1,           1,           1,           1,           1,           1,\n",
       "                  1,           1,           1,           1,           1,           1,           1,           1,           1,           1,           1,           1,           1,           1,           1,           1,           1,           1,           1,           1,           1,           1,           1,\n",
       "                  1,           1,           1,           1,           1,           1,           1,           1,           1,           1,           1,           1,           1,           1,           1,           1,           1,           1,           1,           1,           1,           1,           1,\n",
       "                  1,           1,           1,           1,           1,           1,           1,           1,           1,           1,           1,           1,           1,           1,           1,           1,           1,           1,           1,           1,           1,           1,           1,\n",
       "                  1,           1,           1,           1,           1,           1,           1,           1,           1,           1,           1,           1,           1,           1,           1,           1,           1,           1,           1,           1,           1,           1,           1,\n",
       "                  1,           1,           1,           1,           1,           1,           1,           1,           1,           1,           1,           1,           1,           1,           1,           1,           1,           1,           1,           1,           1,           1,           1,\n",
       "                  1,           1,           1,           1,           1,           1,           1,           1,           1,           1,           1,           1,           1,           1,           1,           1,           1,           1,           1,           1,           1,           1,           1,\n",
       "                  1,           1,           1,           1,           1,           1,           1,           1,           1,           1,           1,           1,           1,           1,           1,           1,           1,           1,           1,           1,           1,           1,           1,\n",
       "                  1,           1,           1,           1,           1,           1,           1,           1,           1,           1,           1,           1,           1,           1,           1,           1,           1,           1,           1,           1,           1,     0.99798,     0.99698,\n",
       "            0.99698,     0.99698,     0.99698,     0.99302,     0.99302,     0.99302,     0.99302,     0.99302,     0.99302,     0.99105,     0.98715,     0.98715,     0.98619,     0.98524,     0.98428,     0.98141,     0.97856,     0.97384,     0.97013,     0.97013,     0.95545,     0.94211,     0.92491,\n",
       "            0.92329,     0.92168,     0.72461,     0.70076,     0.49804,     0.48659,     0.47746,     0.43672,     0.22068,     0.11034,           0]]), 'Recall', 'Precision'], [array([          0,    0.001001,    0.002002,    0.003003,    0.004004,    0.005005,    0.006006,    0.007007,    0.008008,    0.009009,     0.01001,    0.011011,    0.012012,    0.013013,    0.014014,    0.015015,    0.016016,    0.017017,    0.018018,    0.019019,     0.02002,    0.021021,    0.022022,    0.023023,\n",
       "          0.024024,    0.025025,    0.026026,    0.027027,    0.028028,    0.029029,     0.03003,    0.031031,    0.032032,    0.033033,    0.034034,    0.035035,    0.036036,    0.037037,    0.038038,    0.039039,     0.04004,    0.041041,    0.042042,    0.043043,    0.044044,    0.045045,    0.046046,    0.047047,\n",
       "          0.048048,    0.049049,     0.05005,    0.051051,    0.052052,    0.053053,    0.054054,    0.055055,    0.056056,    0.057057,    0.058058,    0.059059,     0.06006,    0.061061,    0.062062,    0.063063,    0.064064,    0.065065,    0.066066,    0.067067,    0.068068,    0.069069,     0.07007,    0.071071,\n",
       "          0.072072,    0.073073,    0.074074,    0.075075,    0.076076,    0.077077,    0.078078,    0.079079,     0.08008,    0.081081,    0.082082,    0.083083,    0.084084,    0.085085,    0.086086,    0.087087,    0.088088,    0.089089,     0.09009,    0.091091,    0.092092,    0.093093,    0.094094,    0.095095,\n",
       "          0.096096,    0.097097,    0.098098,    0.099099,      0.1001,      0.1011,      0.1021,      0.1031,      0.1041,     0.10511,     0.10611,     0.10711,     0.10811,     0.10911,     0.11011,     0.11111,     0.11211,     0.11311,     0.11411,     0.11512,     0.11612,     0.11712,     0.11812,     0.11912,\n",
       "           0.12012,     0.12112,     0.12212,     0.12312,     0.12412,     0.12513,     0.12613,     0.12713,     0.12813,     0.12913,     0.13013,     0.13113,     0.13213,     0.13313,     0.13413,     0.13514,     0.13614,     0.13714,     0.13814,     0.13914,     0.14014,     0.14114,     0.14214,     0.14314,\n",
       "           0.14414,     0.14515,     0.14615,     0.14715,     0.14815,     0.14915,     0.15015,     0.15115,     0.15215,     0.15315,     0.15415,     0.15516,     0.15616,     0.15716,     0.15816,     0.15916,     0.16016,     0.16116,     0.16216,     0.16316,     0.16416,     0.16517,     0.16617,     0.16717,\n",
       "           0.16817,     0.16917,     0.17017,     0.17117,     0.17217,     0.17317,     0.17417,     0.17518,     0.17618,     0.17718,     0.17818,     0.17918,     0.18018,     0.18118,     0.18218,     0.18318,     0.18418,     0.18519,     0.18619,     0.18719,     0.18819,     0.18919,     0.19019,     0.19119,\n",
       "           0.19219,     0.19319,     0.19419,      0.1952,      0.1962,      0.1972,      0.1982,      0.1992,      0.2002,      0.2012,      0.2022,      0.2032,      0.2042,     0.20521,     0.20621,     0.20721,     0.20821,     0.20921,     0.21021,     0.21121,     0.21221,     0.21321,     0.21421,     0.21522,\n",
       "           0.21622,     0.21722,     0.21822,     0.21922,     0.22022,     0.22122,     0.22222,     0.22322,     0.22422,     0.22523,     0.22623,     0.22723,     0.22823,     0.22923,     0.23023,     0.23123,     0.23223,     0.23323,     0.23423,     0.23524,     0.23624,     0.23724,     0.23824,     0.23924,\n",
       "           0.24024,     0.24124,     0.24224,     0.24324,     0.24424,     0.24525,     0.24625,     0.24725,     0.24825,     0.24925,     0.25025,     0.25125,     0.25225,     0.25325,     0.25425,     0.25526,     0.25626,     0.25726,     0.25826,     0.25926,     0.26026,     0.26126,     0.26226,     0.26326,\n",
       "           0.26426,     0.26527,     0.26627,     0.26727,     0.26827,     0.26927,     0.27027,     0.27127,     0.27227,     0.27327,     0.27427,     0.27528,     0.27628,     0.27728,     0.27828,     0.27928,     0.28028,     0.28128,     0.28228,     0.28328,     0.28428,     0.28529,     0.28629,     0.28729,\n",
       "           0.28829,     0.28929,     0.29029,     0.29129,     0.29229,     0.29329,     0.29429,      0.2953,      0.2963,      0.2973,      0.2983,      0.2993,      0.3003,      0.3013,      0.3023,      0.3033,      0.3043,     0.30531,     0.30631,     0.30731,     0.30831,     0.30931,     0.31031,     0.31131,\n",
       "           0.31231,     0.31331,     0.31431,     0.31532,     0.31632,     0.31732,     0.31832,     0.31932,     0.32032,     0.32132,     0.32232,     0.32332,     0.32432,     0.32533,     0.32633,     0.32733,     0.32833,     0.32933,     0.33033,     0.33133,     0.33233,     0.33333,     0.33433,     0.33534,\n",
       "           0.33634,     0.33734,     0.33834,     0.33934,     0.34034,     0.34134,     0.34234,     0.34334,     0.34434,     0.34535,     0.34635,     0.34735,     0.34835,     0.34935,     0.35035,     0.35135,     0.35235,     0.35335,     0.35435,     0.35536,     0.35636,     0.35736,     0.35836,     0.35936,\n",
       "           0.36036,     0.36136,     0.36236,     0.36336,     0.36436,     0.36537,     0.36637,     0.36737,     0.36837,     0.36937,     0.37037,     0.37137,     0.37237,     0.37337,     0.37437,     0.37538,     0.37638,     0.37738,     0.37838,     0.37938,     0.38038,     0.38138,     0.38238,     0.38338,\n",
       "           0.38438,     0.38539,     0.38639,     0.38739,     0.38839,     0.38939,     0.39039,     0.39139,     0.39239,     0.39339,     0.39439,      0.3954,      0.3964,      0.3974,      0.3984,      0.3994,      0.4004,      0.4014,      0.4024,      0.4034,      0.4044,     0.40541,     0.40641,     0.40741,\n",
       "           0.40841,     0.40941,     0.41041,     0.41141,     0.41241,     0.41341,     0.41441,     0.41542,     0.41642,     0.41742,     0.41842,     0.41942,     0.42042,     0.42142,     0.42242,     0.42342,     0.42442,     0.42543,     0.42643,     0.42743,     0.42843,     0.42943,     0.43043,     0.43143,\n",
       "           0.43243,     0.43343,     0.43443,     0.43544,     0.43644,     0.43744,     0.43844,     0.43944,     0.44044,     0.44144,     0.44244,     0.44344,     0.44444,     0.44545,     0.44645,     0.44745,     0.44845,     0.44945,     0.45045,     0.45145,     0.45245,     0.45345,     0.45445,     0.45546,\n",
       "           0.45646,     0.45746,     0.45846,     0.45946,     0.46046,     0.46146,     0.46246,     0.46346,     0.46446,     0.46547,     0.46647,     0.46747,     0.46847,     0.46947,     0.47047,     0.47147,     0.47247,     0.47347,     0.47447,     0.47548,     0.47648,     0.47748,     0.47848,     0.47948,\n",
       "           0.48048,     0.48148,     0.48248,     0.48348,     0.48448,     0.48549,     0.48649,     0.48749,     0.48849,     0.48949,     0.49049,     0.49149,     0.49249,     0.49349,     0.49449,      0.4955,      0.4965,      0.4975,      0.4985,      0.4995,      0.5005,      0.5015,      0.5025,      0.5035,\n",
       "            0.5045,     0.50551,     0.50651,     0.50751,     0.50851,     0.50951,     0.51051,     0.51151,     0.51251,     0.51351,     0.51451,     0.51552,     0.51652,     0.51752,     0.51852,     0.51952,     0.52052,     0.52152,     0.52252,     0.52352,     0.52452,     0.52553,     0.52653,     0.52753,\n",
       "           0.52853,     0.52953,     0.53053,     0.53153,     0.53253,     0.53353,     0.53453,     0.53554,     0.53654,     0.53754,     0.53854,     0.53954,     0.54054,     0.54154,     0.54254,     0.54354,     0.54454,     0.54555,     0.54655,     0.54755,     0.54855,     0.54955,     0.55055,     0.55155,\n",
       "           0.55255,     0.55355,     0.55455,     0.55556,     0.55656,     0.55756,     0.55856,     0.55956,     0.56056,     0.56156,     0.56256,     0.56356,     0.56456,     0.56557,     0.56657,     0.56757,     0.56857,     0.56957,     0.57057,     0.57157,     0.57257,     0.57357,     0.57457,     0.57558,\n",
       "           0.57658,     0.57758,     0.57858,     0.57958,     0.58058,     0.58158,     0.58258,     0.58358,     0.58458,     0.58559,     0.58659,     0.58759,     0.58859,     0.58959,     0.59059,     0.59159,     0.59259,     0.59359,     0.59459,      0.5956,      0.5966,      0.5976,      0.5986,      0.5996,\n",
       "            0.6006,      0.6016,      0.6026,      0.6036,      0.6046,     0.60561,     0.60661,     0.60761,     0.60861,     0.60961,     0.61061,     0.61161,     0.61261,     0.61361,     0.61461,     0.61562,     0.61662,     0.61762,     0.61862,     0.61962,     0.62062,     0.62162,     0.62262,     0.62362,\n",
       "           0.62462,     0.62563,     0.62663,     0.62763,     0.62863,     0.62963,     0.63063,     0.63163,     0.63263,     0.63363,     0.63463,     0.63564,     0.63664,     0.63764,     0.63864,     0.63964,     0.64064,     0.64164,     0.64264,     0.64364,     0.64464,     0.64565,     0.64665,     0.64765,\n",
       "           0.64865,     0.64965,     0.65065,     0.65165,     0.65265,     0.65365,     0.65465,     0.65566,     0.65666,     0.65766,     0.65866,     0.65966,     0.66066,     0.66166,     0.66266,     0.66366,     0.66466,     0.66567,     0.66667,     0.66767,     0.66867,     0.66967,     0.67067,     0.67167,\n",
       "           0.67267,     0.67367,     0.67467,     0.67568,     0.67668,     0.67768,     0.67868,     0.67968,     0.68068,     0.68168,     0.68268,     0.68368,     0.68468,     0.68569,     0.68669,     0.68769,     0.68869,     0.68969,     0.69069,     0.69169,     0.69269,     0.69369,     0.69469,      0.6957,\n",
       "            0.6967,      0.6977,      0.6987,      0.6997,      0.7007,      0.7017,      0.7027,      0.7037,      0.7047,     0.70571,     0.70671,     0.70771,     0.70871,     0.70971,     0.71071,     0.71171,     0.71271,     0.71371,     0.71471,     0.71572,     0.71672,     0.71772,     0.71872,     0.71972,\n",
       "           0.72072,     0.72172,     0.72272,     0.72372,     0.72472,     0.72573,     0.72673,     0.72773,     0.72873,     0.72973,     0.73073,     0.73173,     0.73273,     0.73373,     0.73473,     0.73574,     0.73674,     0.73774,     0.73874,     0.73974,     0.74074,     0.74174,     0.74274,     0.74374,\n",
       "           0.74474,     0.74575,     0.74675,     0.74775,     0.74875,     0.74975,     0.75075,     0.75175,     0.75275,     0.75375,     0.75475,     0.75576,     0.75676,     0.75776,     0.75876,     0.75976,     0.76076,     0.76176,     0.76276,     0.76376,     0.76476,     0.76577,     0.76677,     0.76777,\n",
       "           0.76877,     0.76977,     0.77077,     0.77177,     0.77277,     0.77377,     0.77477,     0.77578,     0.77678,     0.77778,     0.77878,     0.77978,     0.78078,     0.78178,     0.78278,     0.78378,     0.78478,     0.78579,     0.78679,     0.78779,     0.78879,     0.78979,     0.79079,     0.79179,\n",
       "           0.79279,     0.79379,     0.79479,      0.7958,      0.7968,      0.7978,      0.7988,      0.7998,      0.8008,      0.8018,      0.8028,      0.8038,      0.8048,     0.80581,     0.80681,     0.80781,     0.80881,     0.80981,     0.81081,     0.81181,     0.81281,     0.81381,     0.81481,     0.81582,\n",
       "           0.81682,     0.81782,     0.81882,     0.81982,     0.82082,     0.82182,     0.82282,     0.82382,     0.82482,     0.82583,     0.82683,     0.82783,     0.82883,     0.82983,     0.83083,     0.83183,     0.83283,     0.83383,     0.83483,     0.83584,     0.83684,     0.83784,     0.83884,     0.83984,\n",
       "           0.84084,     0.84184,     0.84284,     0.84384,     0.84484,     0.84585,     0.84685,     0.84785,     0.84885,     0.84985,     0.85085,     0.85185,     0.85285,     0.85385,     0.85485,     0.85586,     0.85686,     0.85786,     0.85886,     0.85986,     0.86086,     0.86186,     0.86286,     0.86386,\n",
       "           0.86486,     0.86587,     0.86687,     0.86787,     0.86887,     0.86987,     0.87087,     0.87187,     0.87287,     0.87387,     0.87487,     0.87588,     0.87688,     0.87788,     0.87888,     0.87988,     0.88088,     0.88188,     0.88288,     0.88388,     0.88488,     0.88589,     0.88689,     0.88789,\n",
       "           0.88889,     0.88989,     0.89089,     0.89189,     0.89289,     0.89389,     0.89489,      0.8959,      0.8969,      0.8979,      0.8989,      0.8999,      0.9009,      0.9019,      0.9029,      0.9039,      0.9049,     0.90591,     0.90691,     0.90791,     0.90891,     0.90991,     0.91091,     0.91191,\n",
       "           0.91291,     0.91391,     0.91491,     0.91592,     0.91692,     0.91792,     0.91892,     0.91992,     0.92092,     0.92192,     0.92292,     0.92392,     0.92492,     0.92593,     0.92693,     0.92793,     0.92893,     0.92993,     0.93093,     0.93193,     0.93293,     0.93393,     0.93493,     0.93594,\n",
       "           0.93694,     0.93794,     0.93894,     0.93994,     0.94094,     0.94194,     0.94294,     0.94394,     0.94494,     0.94595,     0.94695,     0.94795,     0.94895,     0.94995,     0.95095,     0.95195,     0.95295,     0.95395,     0.95495,     0.95596,     0.95696,     0.95796,     0.95896,     0.95996,\n",
       "           0.96096,     0.96196,     0.96296,     0.96396,     0.96496,     0.96597,     0.96697,     0.96797,     0.96897,     0.96997,     0.97097,     0.97197,     0.97297,     0.97397,     0.97497,     0.97598,     0.97698,     0.97798,     0.97898,     0.97998,     0.98098,     0.98198,     0.98298,     0.98398,\n",
       "           0.98498,     0.98599,     0.98699,     0.98799,     0.98899,     0.98999,     0.99099,     0.99199,     0.99299,     0.99399,     0.99499,       0.996,       0.997,       0.998,       0.999,           1]), array([[    0.48895,     0.48895,      0.6063,      0.6673,     0.71131,     0.74074,     0.76358,     0.77965,     0.79193,     0.80345,      0.8161,     0.82409,     0.83239,      0.8398,     0.84699,     0.85239,     0.85905,     0.86293,     0.86763,     0.87149,     0.87556,     0.87913,     0.88297,\n",
       "            0.88451,     0.88684,     0.88877,     0.89138,     0.89463,      0.8958,     0.89736,     0.89866,     0.89961,     0.90055,     0.90173,     0.90223,     0.90521,     0.90613,     0.90751,     0.90942,     0.91067,     0.91245,     0.91331,     0.91497,     0.91585,     0.91668,     0.91703,\n",
       "            0.91792,     0.91822,     0.91866,     0.91959,     0.92005,      0.9208,     0.92154,     0.92362,     0.92515,      0.9256,     0.92704,     0.92787,     0.92839,     0.92891,     0.92956,     0.93029,     0.93096,     0.93189,     0.93266,     0.93369,     0.93428,     0.93509,     0.93542,\n",
       "            0.93599,     0.93673,     0.93697,     0.93746,     0.93786,     0.93803,     0.93816,     0.93829,     0.93934,     0.93965,      0.9406,     0.94112,     0.94153,     0.94183,     0.94234,     0.94253,     0.94315,     0.94393,      0.9443,     0.94515,     0.94547,     0.94566,     0.94594,\n",
       "            0.94649,     0.94729,     0.94751,     0.94829,     0.94901,     0.94987,     0.94997,     0.95008,     0.95019,     0.95042,     0.95089,     0.95127,     0.95144,     0.95173,     0.95215,     0.95239,     0.95304,     0.95347,     0.95398,     0.95442,     0.95499,     0.95471,     0.95503,\n",
       "            0.95541,     0.95554,     0.95549,     0.95543,     0.95537,     0.95532,     0.95526,      0.9552,     0.95514,     0.95509,     0.95528,     0.95549,     0.95595,     0.95582,     0.95563,     0.95608,     0.95676,      0.9569,     0.95695,       0.957,     0.95705,      0.9571,     0.95714,\n",
       "            0.95719,     0.95724,     0.95729,      0.9574,     0.95752,     0.95764,     0.95776,     0.95882,     0.95898,     0.95913,     0.95925,     0.95937,     0.95948,     0.95961,     0.95983,     0.96011,     0.96098,     0.96127,     0.96148,     0.96161,     0.96174,     0.96187,     0.96194,\n",
       "            0.96201,     0.96208,     0.96215,     0.96222,     0.96229,     0.96237,     0.96244,     0.96252,      0.9626,     0.96267,     0.96275,     0.96284,     0.96294,     0.96305,     0.96315,     0.96325,     0.96333,     0.96341,     0.96349,     0.96357,     0.96365,     0.96375,     0.96391,\n",
       "            0.96407,     0.96427,     0.96454,     0.96453,     0.96439,     0.96425,     0.96414,     0.96424,     0.96433,     0.96443,     0.96452,     0.96462,     0.96471,      0.9648,     0.96489,     0.96499,     0.96556,     0.96575,     0.96594,      0.9661,     0.96624,     0.96639,     0.96652,\n",
       "            0.96664,     0.96676,     0.96688,     0.96716,     0.96767,     0.96785,     0.96787,      0.9679,     0.96792,     0.96794,     0.96796,     0.96799,     0.96801,     0.96803,     0.96805,     0.96808,      0.9681,     0.96812,     0.96814,     0.96816,     0.96819,     0.96821,     0.96823,\n",
       "            0.96825,     0.96828,      0.9683,     0.96837,     0.96844,     0.96851,     0.96859,     0.96866,     0.96874,     0.96927,     0.96932,     0.96938,     0.96944,      0.9695,     0.96956,     0.96962,     0.96968,     0.96991,     0.97023,     0.97058,     0.97083,     0.97069,     0.97101,\n",
       "            0.97109,     0.97111,     0.97114,     0.97116,     0.97119,     0.97121,     0.97123,     0.97126,     0.97128,     0.97131,     0.97133,     0.97135,     0.97138,      0.9714,     0.97143,     0.97145,     0.97147,      0.9715,     0.97152,     0.97162,      0.9719,     0.97206,     0.97215,\n",
       "            0.97223,     0.97232,     0.97241,     0.97249,     0.97255,     0.97261,     0.97267,     0.97273,     0.97279,     0.97285,     0.97291,     0.97296,       0.973,     0.97304,     0.97308,     0.97312,     0.97316,     0.97319,     0.97323,     0.97327,     0.97331,     0.97335,     0.97339,\n",
       "            0.97343,     0.97347,     0.97351,     0.97355,     0.97359,     0.97363,     0.97367,     0.97371,     0.97375,     0.97379,     0.97383,     0.97387,      0.9739,     0.97393,     0.97396,     0.97399,     0.97401,     0.97404,     0.97407,      0.9741,     0.97413,     0.97415,     0.97418,\n",
       "            0.97421,     0.97424,     0.97427,     0.97429,     0.97432,     0.97435,     0.97443,     0.97454,     0.97465,     0.97476,     0.97502,     0.97533,     0.97537,     0.97542,     0.97546,     0.97551,     0.97555,      0.9756,     0.97564,     0.97569,     0.97573,     0.97578,     0.97579,\n",
       "            0.97581,     0.97583,     0.97584,     0.97586,     0.97588,     0.97589,     0.97591,     0.97592,     0.97594,     0.97596,     0.97597,     0.97599,     0.97601,     0.97602,     0.97604,     0.97606,     0.97607,     0.97609,     0.97611,     0.97612,     0.97614,     0.97615,     0.97617,\n",
       "            0.97619,      0.9762,     0.97622,     0.97624,     0.97627,     0.97633,      0.9764,     0.97646,     0.97653,     0.97659,     0.97666,     0.97672,     0.97677,     0.97682,     0.97687,     0.97693,     0.97698,     0.97703,     0.97708,     0.97713,     0.97718,     0.97739,     0.97767,\n",
       "            0.97779,     0.97791,     0.97804,     0.97811,     0.97782,      0.9776,     0.97747,     0.97734,     0.97722,     0.97717,     0.97721,     0.97726,      0.9773,     0.97734,     0.97738,     0.97743,     0.97747,     0.97751,     0.97755,      0.9776,     0.97764,     0.97771,     0.97777,\n",
       "            0.97783,      0.9779,     0.97796,     0.97802,     0.97808,     0.97814,     0.97819,     0.97824,     0.97829,     0.97834,     0.97839,     0.97844,     0.97849,     0.97854,     0.97859,     0.97866,     0.97873,      0.9788,     0.97887,     0.97894,     0.97901,     0.97901,     0.97891,\n",
       "             0.9788,     0.97869,     0.97859,     0.97865,     0.97877,     0.97889,     0.97902,     0.97905,     0.97906,     0.97908,     0.97909,     0.97911,     0.97912,     0.97914,     0.97916,     0.97917,     0.97919,      0.9792,     0.97922,     0.97923,     0.97925,     0.97926,     0.97928,\n",
       "            0.97929,     0.97931,     0.97933,     0.97934,     0.97936,     0.97937,     0.97939,      0.9794,     0.97942,     0.97943,     0.97945,     0.97946,     0.97948,     0.97949,     0.97951,     0.97954,     0.97957,     0.97959,     0.97962,     0.97965,     0.97968,     0.97971,     0.97974,\n",
       "            0.97977,      0.9798,     0.97983,     0.97985,     0.97988,     0.97991,     0.97994,     0.97997,     0.98013,     0.98049,     0.98058,     0.98066,     0.98074,     0.98082,      0.9809,     0.98089,     0.98076,     0.98063,     0.98051,     0.98047,      0.9805,     0.98054,     0.98057,\n",
       "            0.98061,     0.98064,     0.98068,     0.98071,     0.98075,     0.98078,     0.98082,     0.98086,     0.98089,     0.98093,     0.98096,       0.981,     0.98103,     0.98107,      0.9811,     0.98114,     0.98117,     0.98121,     0.98124,     0.98128,     0.98131,     0.98135,     0.98138,\n",
       "            0.98141,     0.98143,     0.98144,     0.98145,     0.98147,     0.98148,      0.9815,     0.98151,     0.98152,     0.98154,     0.98155,     0.98156,     0.98158,     0.98159,     0.98161,     0.98162,     0.98163,     0.98165,     0.98166,     0.98168,     0.98169,      0.9817,     0.98172,\n",
       "            0.98173,     0.98175,     0.98176,     0.98177,     0.98179,      0.9818,     0.98181,     0.98183,     0.98184,     0.98186,     0.98187,     0.98188,     0.98192,       0.982,     0.98209,     0.98217,     0.98225,     0.98233,     0.98237,      0.9824,     0.98242,     0.98245,     0.98247,\n",
       "             0.9825,     0.98252,     0.98255,     0.98257,      0.9826,     0.98263,     0.98265,     0.98268,      0.9827,     0.98273,     0.98275,     0.98278,      0.9828,     0.98283,     0.98274,     0.98261,     0.98249,     0.98236,     0.98237,      0.9824,     0.98244,     0.98248,     0.98251,\n",
       "            0.98255,     0.98259,     0.98262,     0.98266,      0.9827,     0.98273,     0.98277,     0.98281,     0.98272,     0.98258,     0.98243,     0.98233,     0.98238,     0.98243,     0.98249,     0.98254,     0.98259,     0.98264,      0.9827,     0.98275,      0.9828,     0.98276,     0.98271,\n",
       "            0.98267,     0.98262,     0.98258,     0.98254,     0.98249,     0.98245,      0.9824,     0.98236,     0.98231,     0.98231,     0.98232,     0.98233,     0.98234,     0.98235,     0.98237,     0.98238,     0.98239,      0.9824,     0.98241,     0.98242,     0.98243,     0.98245,     0.98246,\n",
       "            0.98247,     0.98248,     0.98249,      0.9825,     0.98251,     0.98253,     0.98254,     0.98255,     0.98256,     0.98257,     0.98258,     0.98259,     0.98261,     0.98262,     0.98263,     0.98264,     0.98265,     0.98266,     0.98267,     0.98269,      0.9827,     0.98271,     0.98272,\n",
       "            0.98273,     0.98274,     0.98275,     0.98276,     0.98278,     0.98277,     0.98274,      0.9827,     0.98266,     0.98263,     0.98259,     0.98255,     0.98252,     0.98248,     0.98244,     0.98241,     0.98237,     0.98233,      0.9823,     0.98225,      0.9822,     0.98215,      0.9821,\n",
       "            0.98204,     0.98199,     0.98194,     0.98189,     0.98184,     0.98179,     0.98187,     0.98197,     0.98207,     0.98217,     0.98227,     0.98234,     0.98241,     0.98248,     0.98255,     0.98262,     0.98269,     0.98276,     0.98284,     0.98292,     0.98299,     0.98307,     0.98315,\n",
       "            0.98322,     0.98357,      0.9834,     0.98323,     0.98326,     0.98331,     0.98336,     0.98341,     0.98346,     0.98351,     0.98356,     0.98361,     0.98366,     0.98418,     0.98411,     0.98404,     0.98397,      0.9839,     0.98384,     0.98377,      0.9837,     0.98365,     0.98361,\n",
       "            0.98357,     0.98353,     0.98349,     0.98345,     0.98341,     0.98336,     0.98332,     0.98328,     0.98324,      0.9832,     0.98307,      0.9829,     0.98273,     0.98265,     0.98262,     0.98258,     0.98254,      0.9825,     0.98246,     0.98242,     0.98239,     0.98235,     0.98231,\n",
       "            0.98227,     0.98223,      0.9822,     0.98214,     0.98207,       0.982,     0.98193,     0.98186,      0.9818,     0.98173,     0.98155,     0.98119,     0.98126,     0.98133,      0.9814,     0.98147,     0.98154,     0.98162,     0.98167,      0.9817,     0.98173,     0.98176,     0.98179,\n",
       "            0.98183,     0.98186,     0.98189,     0.98192,     0.98195,     0.98198,     0.98201,     0.98204,     0.98208,     0.98211,     0.98214,     0.98273,     0.98286,     0.98298,     0.98311,     0.98301,      0.9829,     0.98278,     0.98267,     0.98155,     0.98146,     0.98136,     0.98127,\n",
       "            0.98117,      0.9811,     0.98115,      0.9812,     0.98125,      0.9813,     0.98135,      0.9814,     0.98145,      0.9815,     0.98155,     0.98155,     0.98148,      0.9814,     0.98133,     0.98126,     0.98118,     0.98111,     0.98111,     0.98116,     0.98122,     0.98128,     0.98133,\n",
       "            0.98139,     0.98144,      0.9815,     0.98155,     0.98183,     0.98197,     0.98171,     0.98145,     0.98119,     0.98102,     0.98096,     0.98091,     0.98086,     0.98081,     0.98075,      0.9807,     0.98065,      0.9806,     0.98055,     0.98041,     0.98024,     0.98006,     0.97986,\n",
       "            0.97965,      0.9795,     0.97948,     0.97945,     0.97943,      0.9794,     0.97937,     0.97935,     0.97932,      0.9793,     0.97927,     0.97925,     0.97922,      0.9792,     0.97917,     0.97915,     0.97912,     0.97909,     0.97907,     0.97904,     0.97902,     0.97893,     0.97872,\n",
       "            0.97852,     0.97837,     0.97824,     0.97811,     0.97798,     0.97789,     0.97779,     0.97769,      0.9776,      0.9775,     0.97738,     0.97723,     0.97708,     0.97685,     0.97642,     0.97634,     0.97626,     0.97618,      0.9761,     0.97602,     0.97594,     0.97562,      0.9752,\n",
       "            0.97485,     0.97473,     0.97461,      0.9745,     0.97438,     0.97427,     0.97417,     0.97406,     0.97396,     0.97369,     0.97269,     0.97248,     0.97229,     0.97216,     0.97202,     0.97189,     0.97176,     0.97162,     0.97149,     0.97136,     0.97117,      0.9709,     0.97051,\n",
       "            0.96998,     0.96814,     0.96708,     0.96657,     0.96631,     0.96592,     0.96389,     0.96324,     0.96111,     0.95989,     0.95894,     0.95827,     0.95622,     0.95406,     0.95296,     0.95126,     0.94828,     0.94718,     0.94637,     0.94142,     0.93809,     0.93418,     0.93081,\n",
       "            0.92741,     0.92115,     0.91769,     0.91073,     0.90545,     0.90011,     0.89532,     0.88686,     0.88073,     0.87577,     0.87014,     0.85938,     0.84515,     0.83191,     0.81767,     0.80449,     0.79315,     0.78086,     0.76385,     0.75172,     0.73388,     0.72275,     0.69994,\n",
       "            0.67114,     0.64193,     0.60951,     0.56953,     0.52611,     0.48561,     0.43926,     0.38104,     0.34556,     0.31268,     0.25044,     0.18988,     0.13695,     0.10399,    0.066198,    0.038238,    0.026769,    0.018246,   0.0073203,           0,           0,           0,           0,\n",
       "                  0,           0,           0,           0,           0,           0,           0,           0,           0,           0,           0]]), 'Confidence', 'F1'], [array([          0,    0.001001,    0.002002,    0.003003,    0.004004,    0.005005,    0.006006,    0.007007,    0.008008,    0.009009,     0.01001,    0.011011,    0.012012,    0.013013,    0.014014,    0.015015,    0.016016,    0.017017,    0.018018,    0.019019,     0.02002,    0.021021,    0.022022,    0.023023,\n",
       "          0.024024,    0.025025,    0.026026,    0.027027,    0.028028,    0.029029,     0.03003,    0.031031,    0.032032,    0.033033,    0.034034,    0.035035,    0.036036,    0.037037,    0.038038,    0.039039,     0.04004,    0.041041,    0.042042,    0.043043,    0.044044,    0.045045,    0.046046,    0.047047,\n",
       "          0.048048,    0.049049,     0.05005,    0.051051,    0.052052,    0.053053,    0.054054,    0.055055,    0.056056,    0.057057,    0.058058,    0.059059,     0.06006,    0.061061,    0.062062,    0.063063,    0.064064,    0.065065,    0.066066,    0.067067,    0.068068,    0.069069,     0.07007,    0.071071,\n",
       "          0.072072,    0.073073,    0.074074,    0.075075,    0.076076,    0.077077,    0.078078,    0.079079,     0.08008,    0.081081,    0.082082,    0.083083,    0.084084,    0.085085,    0.086086,    0.087087,    0.088088,    0.089089,     0.09009,    0.091091,    0.092092,    0.093093,    0.094094,    0.095095,\n",
       "          0.096096,    0.097097,    0.098098,    0.099099,      0.1001,      0.1011,      0.1021,      0.1031,      0.1041,     0.10511,     0.10611,     0.10711,     0.10811,     0.10911,     0.11011,     0.11111,     0.11211,     0.11311,     0.11411,     0.11512,     0.11612,     0.11712,     0.11812,     0.11912,\n",
       "           0.12012,     0.12112,     0.12212,     0.12312,     0.12412,     0.12513,     0.12613,     0.12713,     0.12813,     0.12913,     0.13013,     0.13113,     0.13213,     0.13313,     0.13413,     0.13514,     0.13614,     0.13714,     0.13814,     0.13914,     0.14014,     0.14114,     0.14214,     0.14314,\n",
       "           0.14414,     0.14515,     0.14615,     0.14715,     0.14815,     0.14915,     0.15015,     0.15115,     0.15215,     0.15315,     0.15415,     0.15516,     0.15616,     0.15716,     0.15816,     0.15916,     0.16016,     0.16116,     0.16216,     0.16316,     0.16416,     0.16517,     0.16617,     0.16717,\n",
       "           0.16817,     0.16917,     0.17017,     0.17117,     0.17217,     0.17317,     0.17417,     0.17518,     0.17618,     0.17718,     0.17818,     0.17918,     0.18018,     0.18118,     0.18218,     0.18318,     0.18418,     0.18519,     0.18619,     0.18719,     0.18819,     0.18919,     0.19019,     0.19119,\n",
       "           0.19219,     0.19319,     0.19419,      0.1952,      0.1962,      0.1972,      0.1982,      0.1992,      0.2002,      0.2012,      0.2022,      0.2032,      0.2042,     0.20521,     0.20621,     0.20721,     0.20821,     0.20921,     0.21021,     0.21121,     0.21221,     0.21321,     0.21421,     0.21522,\n",
       "           0.21622,     0.21722,     0.21822,     0.21922,     0.22022,     0.22122,     0.22222,     0.22322,     0.22422,     0.22523,     0.22623,     0.22723,     0.22823,     0.22923,     0.23023,     0.23123,     0.23223,     0.23323,     0.23423,     0.23524,     0.23624,     0.23724,     0.23824,     0.23924,\n",
       "           0.24024,     0.24124,     0.24224,     0.24324,     0.24424,     0.24525,     0.24625,     0.24725,     0.24825,     0.24925,     0.25025,     0.25125,     0.25225,     0.25325,     0.25425,     0.25526,     0.25626,     0.25726,     0.25826,     0.25926,     0.26026,     0.26126,     0.26226,     0.26326,\n",
       "           0.26426,     0.26527,     0.26627,     0.26727,     0.26827,     0.26927,     0.27027,     0.27127,     0.27227,     0.27327,     0.27427,     0.27528,     0.27628,     0.27728,     0.27828,     0.27928,     0.28028,     0.28128,     0.28228,     0.28328,     0.28428,     0.28529,     0.28629,     0.28729,\n",
       "           0.28829,     0.28929,     0.29029,     0.29129,     0.29229,     0.29329,     0.29429,      0.2953,      0.2963,      0.2973,      0.2983,      0.2993,      0.3003,      0.3013,      0.3023,      0.3033,      0.3043,     0.30531,     0.30631,     0.30731,     0.30831,     0.30931,     0.31031,     0.31131,\n",
       "           0.31231,     0.31331,     0.31431,     0.31532,     0.31632,     0.31732,     0.31832,     0.31932,     0.32032,     0.32132,     0.32232,     0.32332,     0.32432,     0.32533,     0.32633,     0.32733,     0.32833,     0.32933,     0.33033,     0.33133,     0.33233,     0.33333,     0.33433,     0.33534,\n",
       "           0.33634,     0.33734,     0.33834,     0.33934,     0.34034,     0.34134,     0.34234,     0.34334,     0.34434,     0.34535,     0.34635,     0.34735,     0.34835,     0.34935,     0.35035,     0.35135,     0.35235,     0.35335,     0.35435,     0.35536,     0.35636,     0.35736,     0.35836,     0.35936,\n",
       "           0.36036,     0.36136,     0.36236,     0.36336,     0.36436,     0.36537,     0.36637,     0.36737,     0.36837,     0.36937,     0.37037,     0.37137,     0.37237,     0.37337,     0.37437,     0.37538,     0.37638,     0.37738,     0.37838,     0.37938,     0.38038,     0.38138,     0.38238,     0.38338,\n",
       "           0.38438,     0.38539,     0.38639,     0.38739,     0.38839,     0.38939,     0.39039,     0.39139,     0.39239,     0.39339,     0.39439,      0.3954,      0.3964,      0.3974,      0.3984,      0.3994,      0.4004,      0.4014,      0.4024,      0.4034,      0.4044,     0.40541,     0.40641,     0.40741,\n",
       "           0.40841,     0.40941,     0.41041,     0.41141,     0.41241,     0.41341,     0.41441,     0.41542,     0.41642,     0.41742,     0.41842,     0.41942,     0.42042,     0.42142,     0.42242,     0.42342,     0.42442,     0.42543,     0.42643,     0.42743,     0.42843,     0.42943,     0.43043,     0.43143,\n",
       "           0.43243,     0.43343,     0.43443,     0.43544,     0.43644,     0.43744,     0.43844,     0.43944,     0.44044,     0.44144,     0.44244,     0.44344,     0.44444,     0.44545,     0.44645,     0.44745,     0.44845,     0.44945,     0.45045,     0.45145,     0.45245,     0.45345,     0.45445,     0.45546,\n",
       "           0.45646,     0.45746,     0.45846,     0.45946,     0.46046,     0.46146,     0.46246,     0.46346,     0.46446,     0.46547,     0.46647,     0.46747,     0.46847,     0.46947,     0.47047,     0.47147,     0.47247,     0.47347,     0.47447,     0.47548,     0.47648,     0.47748,     0.47848,     0.47948,\n",
       "           0.48048,     0.48148,     0.48248,     0.48348,     0.48448,     0.48549,     0.48649,     0.48749,     0.48849,     0.48949,     0.49049,     0.49149,     0.49249,     0.49349,     0.49449,      0.4955,      0.4965,      0.4975,      0.4985,      0.4995,      0.5005,      0.5015,      0.5025,      0.5035,\n",
       "            0.5045,     0.50551,     0.50651,     0.50751,     0.50851,     0.50951,     0.51051,     0.51151,     0.51251,     0.51351,     0.51451,     0.51552,     0.51652,     0.51752,     0.51852,     0.51952,     0.52052,     0.52152,     0.52252,     0.52352,     0.52452,     0.52553,     0.52653,     0.52753,\n",
       "           0.52853,     0.52953,     0.53053,     0.53153,     0.53253,     0.53353,     0.53453,     0.53554,     0.53654,     0.53754,     0.53854,     0.53954,     0.54054,     0.54154,     0.54254,     0.54354,     0.54454,     0.54555,     0.54655,     0.54755,     0.54855,     0.54955,     0.55055,     0.55155,\n",
       "           0.55255,     0.55355,     0.55455,     0.55556,     0.55656,     0.55756,     0.55856,     0.55956,     0.56056,     0.56156,     0.56256,     0.56356,     0.56456,     0.56557,     0.56657,     0.56757,     0.56857,     0.56957,     0.57057,     0.57157,     0.57257,     0.57357,     0.57457,     0.57558,\n",
       "           0.57658,     0.57758,     0.57858,     0.57958,     0.58058,     0.58158,     0.58258,     0.58358,     0.58458,     0.58559,     0.58659,     0.58759,     0.58859,     0.58959,     0.59059,     0.59159,     0.59259,     0.59359,     0.59459,      0.5956,      0.5966,      0.5976,      0.5986,      0.5996,\n",
       "            0.6006,      0.6016,      0.6026,      0.6036,      0.6046,     0.60561,     0.60661,     0.60761,     0.60861,     0.60961,     0.61061,     0.61161,     0.61261,     0.61361,     0.61461,     0.61562,     0.61662,     0.61762,     0.61862,     0.61962,     0.62062,     0.62162,     0.62262,     0.62362,\n",
       "           0.62462,     0.62563,     0.62663,     0.62763,     0.62863,     0.62963,     0.63063,     0.63163,     0.63263,     0.63363,     0.63463,     0.63564,     0.63664,     0.63764,     0.63864,     0.63964,     0.64064,     0.64164,     0.64264,     0.64364,     0.64464,     0.64565,     0.64665,     0.64765,\n",
       "           0.64865,     0.64965,     0.65065,     0.65165,     0.65265,     0.65365,     0.65465,     0.65566,     0.65666,     0.65766,     0.65866,     0.65966,     0.66066,     0.66166,     0.66266,     0.66366,     0.66466,     0.66567,     0.66667,     0.66767,     0.66867,     0.66967,     0.67067,     0.67167,\n",
       "           0.67267,     0.67367,     0.67467,     0.67568,     0.67668,     0.67768,     0.67868,     0.67968,     0.68068,     0.68168,     0.68268,     0.68368,     0.68468,     0.68569,     0.68669,     0.68769,     0.68869,     0.68969,     0.69069,     0.69169,     0.69269,     0.69369,     0.69469,      0.6957,\n",
       "            0.6967,      0.6977,      0.6987,      0.6997,      0.7007,      0.7017,      0.7027,      0.7037,      0.7047,     0.70571,     0.70671,     0.70771,     0.70871,     0.70971,     0.71071,     0.71171,     0.71271,     0.71371,     0.71471,     0.71572,     0.71672,     0.71772,     0.71872,     0.71972,\n",
       "           0.72072,     0.72172,     0.72272,     0.72372,     0.72472,     0.72573,     0.72673,     0.72773,     0.72873,     0.72973,     0.73073,     0.73173,     0.73273,     0.73373,     0.73473,     0.73574,     0.73674,     0.73774,     0.73874,     0.73974,     0.74074,     0.74174,     0.74274,     0.74374,\n",
       "           0.74474,     0.74575,     0.74675,     0.74775,     0.74875,     0.74975,     0.75075,     0.75175,     0.75275,     0.75375,     0.75475,     0.75576,     0.75676,     0.75776,     0.75876,     0.75976,     0.76076,     0.76176,     0.76276,     0.76376,     0.76476,     0.76577,     0.76677,     0.76777,\n",
       "           0.76877,     0.76977,     0.77077,     0.77177,     0.77277,     0.77377,     0.77477,     0.77578,     0.77678,     0.77778,     0.77878,     0.77978,     0.78078,     0.78178,     0.78278,     0.78378,     0.78478,     0.78579,     0.78679,     0.78779,     0.78879,     0.78979,     0.79079,     0.79179,\n",
       "           0.79279,     0.79379,     0.79479,      0.7958,      0.7968,      0.7978,      0.7988,      0.7998,      0.8008,      0.8018,      0.8028,      0.8038,      0.8048,     0.80581,     0.80681,     0.80781,     0.80881,     0.80981,     0.81081,     0.81181,     0.81281,     0.81381,     0.81481,     0.81582,\n",
       "           0.81682,     0.81782,     0.81882,     0.81982,     0.82082,     0.82182,     0.82282,     0.82382,     0.82482,     0.82583,     0.82683,     0.82783,     0.82883,     0.82983,     0.83083,     0.83183,     0.83283,     0.83383,     0.83483,     0.83584,     0.83684,     0.83784,     0.83884,     0.83984,\n",
       "           0.84084,     0.84184,     0.84284,     0.84384,     0.84484,     0.84585,     0.84685,     0.84785,     0.84885,     0.84985,     0.85085,     0.85185,     0.85285,     0.85385,     0.85485,     0.85586,     0.85686,     0.85786,     0.85886,     0.85986,     0.86086,     0.86186,     0.86286,     0.86386,\n",
       "           0.86486,     0.86587,     0.86687,     0.86787,     0.86887,     0.86987,     0.87087,     0.87187,     0.87287,     0.87387,     0.87487,     0.87588,     0.87688,     0.87788,     0.87888,     0.87988,     0.88088,     0.88188,     0.88288,     0.88388,     0.88488,     0.88589,     0.88689,     0.88789,\n",
       "           0.88889,     0.88989,     0.89089,     0.89189,     0.89289,     0.89389,     0.89489,      0.8959,      0.8969,      0.8979,      0.8989,      0.8999,      0.9009,      0.9019,      0.9029,      0.9039,      0.9049,     0.90591,     0.90691,     0.90791,     0.90891,     0.90991,     0.91091,     0.91191,\n",
       "           0.91291,     0.91391,     0.91491,     0.91592,     0.91692,     0.91792,     0.91892,     0.91992,     0.92092,     0.92192,     0.92292,     0.92392,     0.92492,     0.92593,     0.92693,     0.92793,     0.92893,     0.92993,     0.93093,     0.93193,     0.93293,     0.93393,     0.93493,     0.93594,\n",
       "           0.93694,     0.93794,     0.93894,     0.93994,     0.94094,     0.94194,     0.94294,     0.94394,     0.94494,     0.94595,     0.94695,     0.94795,     0.94895,     0.94995,     0.95095,     0.95195,     0.95295,     0.95395,     0.95495,     0.95596,     0.95696,     0.95796,     0.95896,     0.95996,\n",
       "           0.96096,     0.96196,     0.96296,     0.96396,     0.96496,     0.96597,     0.96697,     0.96797,     0.96897,     0.96997,     0.97097,     0.97197,     0.97297,     0.97397,     0.97497,     0.97598,     0.97698,     0.97798,     0.97898,     0.97998,     0.98098,     0.98198,     0.98298,     0.98398,\n",
       "           0.98498,     0.98599,     0.98699,     0.98799,     0.98899,     0.98999,     0.99099,     0.99199,     0.99299,     0.99399,     0.99499,       0.996,       0.997,       0.998,       0.999,           1]), array([[    0.32389,     0.32389,     0.43558,     0.50245,     0.55407,     0.59064,     0.62021,     0.64171,     0.65851,     0.67459,     0.69262,     0.70471,     0.71693,     0.72853,     0.73943,     0.74769,       0.758,     0.76407,     0.77146,     0.77758,     0.78409,     0.78984,     0.79606,\n",
       "            0.79857,     0.80237,     0.80554,     0.80983,     0.81521,     0.81716,     0.81976,     0.82194,     0.82353,      0.8251,     0.82709,     0.82793,     0.83296,     0.83451,     0.83686,     0.84012,     0.84226,     0.84531,     0.84678,     0.84964,     0.85115,     0.85259,      0.8532,\n",
       "            0.85474,     0.85526,     0.85602,     0.85763,     0.85844,     0.85974,     0.86103,     0.86468,     0.86737,     0.86816,     0.87069,     0.87215,     0.87307,       0.874,     0.87515,     0.87645,     0.87764,     0.87929,     0.88065,      0.8825,     0.88355,       0.885,     0.88559,\n",
       "            0.88661,     0.88795,     0.88838,     0.88927,     0.88998,     0.89028,     0.89052,     0.89076,     0.89265,     0.89322,     0.89493,     0.89586,     0.89661,     0.89716,     0.89809,     0.89842,     0.89956,     0.90097,     0.90165,     0.90321,     0.90378,     0.90414,     0.90465,\n",
       "            0.90566,     0.90711,     0.90752,     0.90896,     0.91027,     0.91185,     0.91205,     0.91225,     0.91245,     0.91287,     0.91375,     0.91444,     0.91477,     0.91529,     0.91607,     0.91652,     0.91773,     0.91851,     0.91947,     0.92029,     0.92134,     0.92161,     0.92226,\n",
       "            0.92298,     0.92328,     0.92327,     0.92327,     0.92326,     0.92325,     0.92324,     0.92323,     0.92323,     0.92322,     0.92358,     0.92398,     0.92484,     0.92488,     0.92486,     0.92593,     0.92722,     0.92747,     0.92757,     0.92766,     0.92775,     0.92785,     0.92794,\n",
       "            0.92803,     0.92813,     0.92822,     0.92841,     0.92864,     0.92887,     0.92909,      0.9311,     0.93139,     0.93168,      0.9319,     0.93212,     0.93234,     0.93259,     0.93301,     0.93353,     0.93518,     0.93573,     0.93612,     0.93637,     0.93661,     0.93686,     0.93699,\n",
       "            0.93713,     0.93726,      0.9374,     0.93753,     0.93767,     0.93781,     0.93795,      0.9381,     0.93825,     0.93839,     0.93854,     0.93871,      0.9389,      0.9391,     0.93929,     0.93948,     0.93964,     0.93979,     0.93994,     0.94009,     0.94025,     0.94044,     0.94074,\n",
       "            0.94104,     0.94142,     0.94194,      0.9421,     0.94208,     0.94207,     0.94208,     0.94226,     0.94244,     0.94262,      0.9428,     0.94298,     0.94316,     0.94333,     0.94351,     0.94369,      0.9448,     0.94516,     0.94552,     0.94582,      0.9461,     0.94638,     0.94662,\n",
       "            0.94685,     0.94708,     0.94731,     0.94786,     0.94884,     0.94919,     0.94923,     0.94927,     0.94931,     0.94936,      0.9494,     0.94944,     0.94949,     0.94953,     0.94957,     0.94962,     0.94966,      0.9497,     0.94974,     0.94979,     0.94983,     0.94987,     0.94992,\n",
       "            0.94996,        0.95,     0.95004,     0.95018,     0.95032,     0.95046,      0.9506,     0.95074,     0.95089,     0.95191,     0.95202,     0.95214,     0.95225,     0.95236,     0.95248,     0.95259,      0.9527,     0.95315,     0.95378,     0.95445,     0.95543,     0.95558,      0.9562,\n",
       "            0.95635,      0.9564,     0.95645,     0.95649,     0.95654,     0.95659,     0.95663,     0.95668,     0.95673,     0.95677,     0.95682,     0.95687,     0.95691,     0.95696,     0.95701,     0.95705,      0.9571,     0.95715,     0.95719,     0.95738,     0.95792,     0.95824,     0.95841,\n",
       "            0.95858,     0.95875,     0.95892,     0.95907,     0.95919,     0.95931,     0.95943,     0.95954,     0.95966,     0.95978,     0.95989,     0.95999,     0.96007,     0.96014,     0.96022,     0.96029,     0.96037,     0.96044,     0.96052,     0.96059,     0.96067,     0.96074,     0.96082,\n",
       "             0.9609,     0.96097,     0.96105,     0.96113,     0.96121,     0.96129,     0.96137,     0.96144,     0.96152,      0.9616,     0.96168,     0.96176,     0.96182,     0.96188,     0.96193,     0.96199,     0.96204,      0.9621,     0.96215,     0.96221,     0.96226,     0.96232,     0.96237,\n",
       "            0.96243,     0.96248,     0.96253,     0.96259,     0.96264,      0.9627,     0.96286,     0.96307,     0.96328,     0.96349,     0.96402,     0.96461,      0.9647,     0.96479,     0.96487,     0.96496,     0.96505,     0.96514,     0.96523,     0.96532,      0.9654,     0.96549,     0.96552,\n",
       "            0.96555,     0.96558,     0.96562,     0.96565,     0.96568,     0.96571,     0.96574,     0.96578,     0.96581,     0.96584,     0.96587,     0.96591,     0.96594,     0.96597,       0.966,     0.96603,     0.96607,      0.9661,     0.96613,     0.96616,      0.9662,     0.96623,     0.96626,\n",
       "            0.96629,     0.96632,     0.96636,     0.96639,     0.96645,     0.96658,      0.9667,     0.96683,     0.96696,     0.96708,     0.96721,     0.96734,     0.96744,     0.96754,     0.96764,     0.96774,     0.96784,     0.96794,     0.96804,     0.96814,     0.96824,     0.96866,      0.9692,\n",
       "            0.96944,     0.96968,     0.96992,     0.97013,     0.97012,      0.9701,      0.9701,     0.97009,     0.97008,     0.97012,      0.9702,     0.97029,     0.97037,     0.97045,     0.97054,     0.97062,      0.9707,     0.97079,     0.97087,     0.97095,     0.97105,     0.97117,      0.9713,\n",
       "            0.97142,     0.97155,     0.97167,     0.97179,     0.97192,     0.97202,     0.97212,     0.97222,     0.97232,     0.97242,     0.97252,     0.97262,     0.97272,     0.97282,     0.97292,     0.97306,      0.9732,     0.97334,     0.97348,     0.97361,     0.97375,     0.97384,     0.97383,\n",
       "            0.97382,     0.97382,     0.97381,     0.97399,     0.97423,     0.97448,     0.97472,     0.97478,     0.97481,     0.97484,     0.97487,     0.97491,     0.97494,     0.97497,       0.975,     0.97503,     0.97506,     0.97509,     0.97512,     0.97515,     0.97518,     0.97521,     0.97524,\n",
       "            0.97527,      0.9753,     0.97533,     0.97536,     0.97539,     0.97543,     0.97546,     0.97549,     0.97552,     0.97555,     0.97558,     0.97561,     0.97564,     0.97567,      0.9757,     0.97575,     0.97581,     0.97587,     0.97593,     0.97598,     0.97604,      0.9761,     0.97615,\n",
       "            0.97621,     0.97627,     0.97633,     0.97638,     0.97644,      0.9765,     0.97656,     0.97661,     0.97693,     0.97765,     0.97782,     0.97798,     0.97814,     0.97831,     0.97847,     0.97856,     0.97855,     0.97854,     0.97854,     0.97857,     0.97864,     0.97871,     0.97878,\n",
       "            0.97885,     0.97892,     0.97899,     0.97906,     0.97913,      0.9792,     0.97927,     0.97934,     0.97941,     0.97948,     0.97955,     0.97962,     0.97969,     0.97976,     0.97984,     0.97991,     0.97998,     0.98005,     0.98012,     0.98019,     0.98026,     0.98033,      0.9804,\n",
       "            0.98046,     0.98048,     0.98051,     0.98054,     0.98057,     0.98059,     0.98062,     0.98065,     0.98068,     0.98071,     0.98073,     0.98076,     0.98079,     0.98082,     0.98084,     0.98087,      0.9809,     0.98093,     0.98095,     0.98098,     0.98101,     0.98104,     0.98107,\n",
       "            0.98109,     0.98112,     0.98115,     0.98118,      0.9812,     0.98123,     0.98126,     0.98129,     0.98131,     0.98134,     0.98137,      0.9814,     0.98245,     0.98262,     0.98278,     0.98295,     0.98311,     0.98328,     0.98335,     0.98341,     0.98346,     0.98351,     0.98356,\n",
       "            0.98361,     0.98366,     0.98371,     0.98376,     0.98381,     0.98386,     0.98391,     0.98396,     0.98401,     0.98407,     0.98412,     0.98417,     0.98422,     0.98427,     0.98428,     0.98428,     0.98427,     0.98427,     0.98433,      0.9844,     0.98447,     0.98455,     0.98462,\n",
       "             0.9847,     0.98477,     0.98484,     0.98492,     0.98499,     0.98506,     0.98514,     0.98521,     0.98523,     0.98523,     0.98522,     0.98525,     0.98535,     0.98546,     0.98556,     0.98567,     0.98577,     0.98588,     0.98598,     0.98608,     0.98619,     0.98619,     0.98619,\n",
       "            0.98619,     0.98619,     0.98619,     0.98619,     0.98618,     0.98618,     0.98618,     0.98618,     0.98618,      0.9862,     0.98622,     0.98624,     0.98627,     0.98629,     0.98631,     0.98633,     0.98636,     0.98638,      0.9864,     0.98643,     0.98645,     0.98647,      0.9865,\n",
       "            0.98652,     0.98654,     0.98656,     0.98659,     0.98661,     0.98663,     0.98666,     0.98668,      0.9867,     0.98672,     0.98675,     0.98677,     0.98679,     0.98682,     0.98684,     0.98686,     0.98689,     0.98691,     0.98693,     0.98695,     0.98698,       0.987,     0.98702,\n",
       "            0.98705,     0.98707,     0.98709,     0.98712,     0.98714,     0.98715,     0.98715,     0.98715,     0.98715,     0.98715,     0.98715,     0.98715,     0.98715,     0.98715,     0.98715,     0.98714,     0.98714,     0.98714,     0.98714,     0.98714,     0.98714,     0.98714,     0.98714,\n",
       "            0.98714,     0.98713,     0.98713,     0.98713,     0.98713,     0.98713,     0.98731,     0.98751,     0.98771,     0.98791,     0.98811,     0.98825,      0.9884,     0.98854,     0.98868,     0.98883,     0.98897,     0.98912,     0.98927,     0.98943,     0.98958,     0.98974,     0.98989,\n",
       "            0.99005,     0.99105,     0.99105,     0.99105,     0.99114,     0.99124,     0.99134,     0.99144,     0.99154,     0.99164,     0.99174,     0.99185,     0.99195,     0.99302,     0.99302,     0.99302,     0.99302,     0.99302,     0.99302,     0.99302,     0.99301,     0.99301,     0.99301,\n",
       "            0.99301,     0.99301,     0.99301,     0.99301,     0.99301,     0.99301,     0.99301,     0.99301,     0.99301,     0.99301,     0.99301,       0.993,       0.993,       0.993,       0.993,       0.993,       0.993,       0.993,       0.993,       0.993,       0.993,       0.993,     0.99299,\n",
       "            0.99299,     0.99299,     0.99299,     0.99299,     0.99299,     0.99299,     0.99299,     0.99299,     0.99299,     0.99299,     0.99298,     0.99302,     0.99316,     0.99331,     0.99346,      0.9936,     0.99375,     0.99389,       0.994,     0.99407,     0.99413,      0.9942,     0.99426,\n",
       "            0.99432,     0.99439,     0.99445,     0.99452,     0.99458,     0.99464,     0.99471,     0.99477,     0.99484,      0.9949,     0.99496,     0.99619,     0.99644,      0.9967,     0.99696,     0.99698,     0.99698,     0.99698,     0.99698,     0.99697,     0.99697,     0.99697,     0.99697,\n",
       "            0.99697,     0.99698,     0.99709,     0.99719,     0.99729,      0.9974,      0.9975,      0.9976,     0.99771,     0.99781,     0.99791,     0.99798,     0.99798,     0.99797,     0.99797,     0.99797,     0.99797,     0.99797,     0.99804,     0.99816,     0.99827,     0.99839,      0.9985,\n",
       "            0.99862,     0.99873,     0.99885,     0.99896,     0.99954,           1,           1,           1,           1,           1,           1,           1,           1,           1,           1,           1,           1,           1,           1,           1,           1,           1,           1,\n",
       "                  1,           1,           1,           1,           1,           1,           1,           1,           1,           1,           1,           1,           1,           1,           1,           1,           1,           1,           1,           1,           1,           1,           1,\n",
       "                  1,           1,           1,           1,           1,           1,           1,           1,           1,           1,           1,           1,           1,           1,           1,           1,           1,           1,           1,           1,           1,           1,           1,\n",
       "                  1,           1,           1,           1,           1,           1,           1,           1,           1,           1,           1,           1,           1,           1,           1,           1,           1,           1,           1,           1,           1,           1,           1,\n",
       "                  1,           1,           1,           1,           1,           1,           1,           1,           1,           1,           1,           1,           1,           1,           1,           1,           1,           1,           1,           1,           1,           1,           1,\n",
       "                  1,           1,           1,           1,           1,           1,           1,           1,           1,           1,           1,           1,           1,           1,           1,           1,           1,           1,           1,           1,           1,           1,           1,\n",
       "                  1,           1,           1,           1,           1,           1,           1,           1,           1,           1,           1,           1,           1,           1,           1,           1,           1,           1,           1,           1,           1,           1,           1,\n",
       "                  1,           1,           1,           1,           1,           1,           1,           1,           1,           1,           1]]), 'Confidence', 'Precision'], [array([          0,    0.001001,    0.002002,    0.003003,    0.004004,    0.005005,    0.006006,    0.007007,    0.008008,    0.009009,     0.01001,    0.011011,    0.012012,    0.013013,    0.014014,    0.015015,    0.016016,    0.017017,    0.018018,    0.019019,     0.02002,    0.021021,    0.022022,    0.023023,\n",
       "          0.024024,    0.025025,    0.026026,    0.027027,    0.028028,    0.029029,     0.03003,    0.031031,    0.032032,    0.033033,    0.034034,    0.035035,    0.036036,    0.037037,    0.038038,    0.039039,     0.04004,    0.041041,    0.042042,    0.043043,    0.044044,    0.045045,    0.046046,    0.047047,\n",
       "          0.048048,    0.049049,     0.05005,    0.051051,    0.052052,    0.053053,    0.054054,    0.055055,    0.056056,    0.057057,    0.058058,    0.059059,     0.06006,    0.061061,    0.062062,    0.063063,    0.064064,    0.065065,    0.066066,    0.067067,    0.068068,    0.069069,     0.07007,    0.071071,\n",
       "          0.072072,    0.073073,    0.074074,    0.075075,    0.076076,    0.077077,    0.078078,    0.079079,     0.08008,    0.081081,    0.082082,    0.083083,    0.084084,    0.085085,    0.086086,    0.087087,    0.088088,    0.089089,     0.09009,    0.091091,    0.092092,    0.093093,    0.094094,    0.095095,\n",
       "          0.096096,    0.097097,    0.098098,    0.099099,      0.1001,      0.1011,      0.1021,      0.1031,      0.1041,     0.10511,     0.10611,     0.10711,     0.10811,     0.10911,     0.11011,     0.11111,     0.11211,     0.11311,     0.11411,     0.11512,     0.11612,     0.11712,     0.11812,     0.11912,\n",
       "           0.12012,     0.12112,     0.12212,     0.12312,     0.12412,     0.12513,     0.12613,     0.12713,     0.12813,     0.12913,     0.13013,     0.13113,     0.13213,     0.13313,     0.13413,     0.13514,     0.13614,     0.13714,     0.13814,     0.13914,     0.14014,     0.14114,     0.14214,     0.14314,\n",
       "           0.14414,     0.14515,     0.14615,     0.14715,     0.14815,     0.14915,     0.15015,     0.15115,     0.15215,     0.15315,     0.15415,     0.15516,     0.15616,     0.15716,     0.15816,     0.15916,     0.16016,     0.16116,     0.16216,     0.16316,     0.16416,     0.16517,     0.16617,     0.16717,\n",
       "           0.16817,     0.16917,     0.17017,     0.17117,     0.17217,     0.17317,     0.17417,     0.17518,     0.17618,     0.17718,     0.17818,     0.17918,     0.18018,     0.18118,     0.18218,     0.18318,     0.18418,     0.18519,     0.18619,     0.18719,     0.18819,     0.18919,     0.19019,     0.19119,\n",
       "           0.19219,     0.19319,     0.19419,      0.1952,      0.1962,      0.1972,      0.1982,      0.1992,      0.2002,      0.2012,      0.2022,      0.2032,      0.2042,     0.20521,     0.20621,     0.20721,     0.20821,     0.20921,     0.21021,     0.21121,     0.21221,     0.21321,     0.21421,     0.21522,\n",
       "           0.21622,     0.21722,     0.21822,     0.21922,     0.22022,     0.22122,     0.22222,     0.22322,     0.22422,     0.22523,     0.22623,     0.22723,     0.22823,     0.22923,     0.23023,     0.23123,     0.23223,     0.23323,     0.23423,     0.23524,     0.23624,     0.23724,     0.23824,     0.23924,\n",
       "           0.24024,     0.24124,     0.24224,     0.24324,     0.24424,     0.24525,     0.24625,     0.24725,     0.24825,     0.24925,     0.25025,     0.25125,     0.25225,     0.25325,     0.25425,     0.25526,     0.25626,     0.25726,     0.25826,     0.25926,     0.26026,     0.26126,     0.26226,     0.26326,\n",
       "           0.26426,     0.26527,     0.26627,     0.26727,     0.26827,     0.26927,     0.27027,     0.27127,     0.27227,     0.27327,     0.27427,     0.27528,     0.27628,     0.27728,     0.27828,     0.27928,     0.28028,     0.28128,     0.28228,     0.28328,     0.28428,     0.28529,     0.28629,     0.28729,\n",
       "           0.28829,     0.28929,     0.29029,     0.29129,     0.29229,     0.29329,     0.29429,      0.2953,      0.2963,      0.2973,      0.2983,      0.2993,      0.3003,      0.3013,      0.3023,      0.3033,      0.3043,     0.30531,     0.30631,     0.30731,     0.30831,     0.30931,     0.31031,     0.31131,\n",
       "           0.31231,     0.31331,     0.31431,     0.31532,     0.31632,     0.31732,     0.31832,     0.31932,     0.32032,     0.32132,     0.32232,     0.32332,     0.32432,     0.32533,     0.32633,     0.32733,     0.32833,     0.32933,     0.33033,     0.33133,     0.33233,     0.33333,     0.33433,     0.33534,\n",
       "           0.33634,     0.33734,     0.33834,     0.33934,     0.34034,     0.34134,     0.34234,     0.34334,     0.34434,     0.34535,     0.34635,     0.34735,     0.34835,     0.34935,     0.35035,     0.35135,     0.35235,     0.35335,     0.35435,     0.35536,     0.35636,     0.35736,     0.35836,     0.35936,\n",
       "           0.36036,     0.36136,     0.36236,     0.36336,     0.36436,     0.36537,     0.36637,     0.36737,     0.36837,     0.36937,     0.37037,     0.37137,     0.37237,     0.37337,     0.37437,     0.37538,     0.37638,     0.37738,     0.37838,     0.37938,     0.38038,     0.38138,     0.38238,     0.38338,\n",
       "           0.38438,     0.38539,     0.38639,     0.38739,     0.38839,     0.38939,     0.39039,     0.39139,     0.39239,     0.39339,     0.39439,      0.3954,      0.3964,      0.3974,      0.3984,      0.3994,      0.4004,      0.4014,      0.4024,      0.4034,      0.4044,     0.40541,     0.40641,     0.40741,\n",
       "           0.40841,     0.40941,     0.41041,     0.41141,     0.41241,     0.41341,     0.41441,     0.41542,     0.41642,     0.41742,     0.41842,     0.41942,     0.42042,     0.42142,     0.42242,     0.42342,     0.42442,     0.42543,     0.42643,     0.42743,     0.42843,     0.42943,     0.43043,     0.43143,\n",
       "           0.43243,     0.43343,     0.43443,     0.43544,     0.43644,     0.43744,     0.43844,     0.43944,     0.44044,     0.44144,     0.44244,     0.44344,     0.44444,     0.44545,     0.44645,     0.44745,     0.44845,     0.44945,     0.45045,     0.45145,     0.45245,     0.45345,     0.45445,     0.45546,\n",
       "           0.45646,     0.45746,     0.45846,     0.45946,     0.46046,     0.46146,     0.46246,     0.46346,     0.46446,     0.46547,     0.46647,     0.46747,     0.46847,     0.46947,     0.47047,     0.47147,     0.47247,     0.47347,     0.47447,     0.47548,     0.47648,     0.47748,     0.47848,     0.47948,\n",
       "           0.48048,     0.48148,     0.48248,     0.48348,     0.48448,     0.48549,     0.48649,     0.48749,     0.48849,     0.48949,     0.49049,     0.49149,     0.49249,     0.49349,     0.49449,      0.4955,      0.4965,      0.4975,      0.4985,      0.4995,      0.5005,      0.5015,      0.5025,      0.5035,\n",
       "            0.5045,     0.50551,     0.50651,     0.50751,     0.50851,     0.50951,     0.51051,     0.51151,     0.51251,     0.51351,     0.51451,     0.51552,     0.51652,     0.51752,     0.51852,     0.51952,     0.52052,     0.52152,     0.52252,     0.52352,     0.52452,     0.52553,     0.52653,     0.52753,\n",
       "           0.52853,     0.52953,     0.53053,     0.53153,     0.53253,     0.53353,     0.53453,     0.53554,     0.53654,     0.53754,     0.53854,     0.53954,     0.54054,     0.54154,     0.54254,     0.54354,     0.54454,     0.54555,     0.54655,     0.54755,     0.54855,     0.54955,     0.55055,     0.55155,\n",
       "           0.55255,     0.55355,     0.55455,     0.55556,     0.55656,     0.55756,     0.55856,     0.55956,     0.56056,     0.56156,     0.56256,     0.56356,     0.56456,     0.56557,     0.56657,     0.56757,     0.56857,     0.56957,     0.57057,     0.57157,     0.57257,     0.57357,     0.57457,     0.57558,\n",
       "           0.57658,     0.57758,     0.57858,     0.57958,     0.58058,     0.58158,     0.58258,     0.58358,     0.58458,     0.58559,     0.58659,     0.58759,     0.58859,     0.58959,     0.59059,     0.59159,     0.59259,     0.59359,     0.59459,      0.5956,      0.5966,      0.5976,      0.5986,      0.5996,\n",
       "            0.6006,      0.6016,      0.6026,      0.6036,      0.6046,     0.60561,     0.60661,     0.60761,     0.60861,     0.60961,     0.61061,     0.61161,     0.61261,     0.61361,     0.61461,     0.61562,     0.61662,     0.61762,     0.61862,     0.61962,     0.62062,     0.62162,     0.62262,     0.62362,\n",
       "           0.62462,     0.62563,     0.62663,     0.62763,     0.62863,     0.62963,     0.63063,     0.63163,     0.63263,     0.63363,     0.63463,     0.63564,     0.63664,     0.63764,     0.63864,     0.63964,     0.64064,     0.64164,     0.64264,     0.64364,     0.64464,     0.64565,     0.64665,     0.64765,\n",
       "           0.64865,     0.64965,     0.65065,     0.65165,     0.65265,     0.65365,     0.65465,     0.65566,     0.65666,     0.65766,     0.65866,     0.65966,     0.66066,     0.66166,     0.66266,     0.66366,     0.66466,     0.66567,     0.66667,     0.66767,     0.66867,     0.66967,     0.67067,     0.67167,\n",
       "           0.67267,     0.67367,     0.67467,     0.67568,     0.67668,     0.67768,     0.67868,     0.67968,     0.68068,     0.68168,     0.68268,     0.68368,     0.68468,     0.68569,     0.68669,     0.68769,     0.68869,     0.68969,     0.69069,     0.69169,     0.69269,     0.69369,     0.69469,      0.6957,\n",
       "            0.6967,      0.6977,      0.6987,      0.6997,      0.7007,      0.7017,      0.7027,      0.7037,      0.7047,     0.70571,     0.70671,     0.70771,     0.70871,     0.70971,     0.71071,     0.71171,     0.71271,     0.71371,     0.71471,     0.71572,     0.71672,     0.71772,     0.71872,     0.71972,\n",
       "           0.72072,     0.72172,     0.72272,     0.72372,     0.72472,     0.72573,     0.72673,     0.72773,     0.72873,     0.72973,     0.73073,     0.73173,     0.73273,     0.73373,     0.73473,     0.73574,     0.73674,     0.73774,     0.73874,     0.73974,     0.74074,     0.74174,     0.74274,     0.74374,\n",
       "           0.74474,     0.74575,     0.74675,     0.74775,     0.74875,     0.74975,     0.75075,     0.75175,     0.75275,     0.75375,     0.75475,     0.75576,     0.75676,     0.75776,     0.75876,     0.75976,     0.76076,     0.76176,     0.76276,     0.76376,     0.76476,     0.76577,     0.76677,     0.76777,\n",
       "           0.76877,     0.76977,     0.77077,     0.77177,     0.77277,     0.77377,     0.77477,     0.77578,     0.77678,     0.77778,     0.77878,     0.77978,     0.78078,     0.78178,     0.78278,     0.78378,     0.78478,     0.78579,     0.78679,     0.78779,     0.78879,     0.78979,     0.79079,     0.79179,\n",
       "           0.79279,     0.79379,     0.79479,      0.7958,      0.7968,      0.7978,      0.7988,      0.7998,      0.8008,      0.8018,      0.8028,      0.8038,      0.8048,     0.80581,     0.80681,     0.80781,     0.80881,     0.80981,     0.81081,     0.81181,     0.81281,     0.81381,     0.81481,     0.81582,\n",
       "           0.81682,     0.81782,     0.81882,     0.81982,     0.82082,     0.82182,     0.82282,     0.82382,     0.82482,     0.82583,     0.82683,     0.82783,     0.82883,     0.82983,     0.83083,     0.83183,     0.83283,     0.83383,     0.83483,     0.83584,     0.83684,     0.83784,     0.83884,     0.83984,\n",
       "           0.84084,     0.84184,     0.84284,     0.84384,     0.84484,     0.84585,     0.84685,     0.84785,     0.84885,     0.84985,     0.85085,     0.85185,     0.85285,     0.85385,     0.85485,     0.85586,     0.85686,     0.85786,     0.85886,     0.85986,     0.86086,     0.86186,     0.86286,     0.86386,\n",
       "           0.86486,     0.86587,     0.86687,     0.86787,     0.86887,     0.86987,     0.87087,     0.87187,     0.87287,     0.87387,     0.87487,     0.87588,     0.87688,     0.87788,     0.87888,     0.87988,     0.88088,     0.88188,     0.88288,     0.88388,     0.88488,     0.88589,     0.88689,     0.88789,\n",
       "           0.88889,     0.88989,     0.89089,     0.89189,     0.89289,     0.89389,     0.89489,      0.8959,      0.8969,      0.8979,      0.8989,      0.8999,      0.9009,      0.9019,      0.9029,      0.9039,      0.9049,     0.90591,     0.90691,     0.90791,     0.90891,     0.90991,     0.91091,     0.91191,\n",
       "           0.91291,     0.91391,     0.91491,     0.91592,     0.91692,     0.91792,     0.91892,     0.91992,     0.92092,     0.92192,     0.92292,     0.92392,     0.92492,     0.92593,     0.92693,     0.92793,     0.92893,     0.92993,     0.93093,     0.93193,     0.93293,     0.93393,     0.93493,     0.93594,\n",
       "           0.93694,     0.93794,     0.93894,     0.93994,     0.94094,     0.94194,     0.94294,     0.94394,     0.94494,     0.94595,     0.94695,     0.94795,     0.94895,     0.94995,     0.95095,     0.95195,     0.95295,     0.95395,     0.95495,     0.95596,     0.95696,     0.95796,     0.95896,     0.95996,\n",
       "           0.96096,     0.96196,     0.96296,     0.96396,     0.96496,     0.96597,     0.96697,     0.96797,     0.96897,     0.96997,     0.97097,     0.97197,     0.97297,     0.97397,     0.97497,     0.97598,     0.97698,     0.97798,     0.97898,     0.97998,     0.98098,     0.98198,     0.98298,     0.98398,\n",
       "           0.98498,     0.98599,     0.98699,     0.98799,     0.98899,     0.98999,     0.99099,     0.99199,     0.99299,     0.99399,     0.99499,       0.996,       0.997,       0.998,       0.999,           1]), array([[    0.99706,     0.99706,     0.99706,     0.99314,     0.99314,     0.99314,     0.99314,     0.99314,     0.99314,     0.99314,     0.99314,     0.99216,     0.99216,     0.99119,     0.99119,     0.99119,     0.99119,     0.99119,     0.99119,     0.99119,     0.99119,     0.99119,     0.99119,\n",
       "            0.99119,     0.99119,     0.99119,     0.99119,     0.99119,     0.99119,     0.99119,     0.99119,     0.99119,     0.99119,     0.99119,     0.99119,     0.99119,     0.99119,     0.99119,     0.99119,     0.99119,     0.99119,     0.99119,     0.99119,     0.99119,     0.99119,     0.99119,\n",
       "            0.99119,     0.99119,     0.99119,     0.99119,     0.99119,     0.99119,     0.99119,     0.99119,     0.99119,     0.99119,     0.99119,     0.99119,     0.99119,     0.99119,     0.99119,     0.99119,     0.99119,     0.99119,     0.99119,     0.99119,     0.99119,     0.99119,     0.99119,\n",
       "            0.99119,     0.99119,     0.99119,     0.99119,     0.99119,     0.99119,     0.99119,     0.99119,     0.99119,     0.99119,     0.99119,     0.99119,     0.99119,     0.99119,     0.99119,     0.99119,     0.99119,     0.99119,     0.99119,     0.99119,     0.99119,     0.99119,     0.99119,\n",
       "            0.99119,     0.99119,     0.99119,     0.99119,     0.99119,     0.99119,     0.99119,     0.99119,     0.99119,     0.99119,     0.99119,     0.99119,     0.99119,     0.99119,     0.99119,     0.99119,     0.99119,     0.99119,     0.99119,     0.99119,     0.99119,     0.99027,     0.99021,\n",
       "            0.99021,     0.99014,     0.99003,     0.98991,      0.9898,     0.98969,     0.98957,     0.98946,     0.98935,     0.98924,     0.98923,     0.98923,     0.98923,     0.98889,     0.98852,     0.98825,     0.98825,     0.98825,     0.98825,     0.98825,     0.98825,     0.98825,     0.98825,\n",
       "            0.98825,     0.98825,     0.98825,     0.98825,     0.98825,     0.98825,     0.98825,     0.98825,     0.98825,     0.98825,     0.98825,     0.98825,     0.98825,     0.98825,     0.98825,     0.98825,     0.98825,     0.98825,     0.98825,     0.98825,     0.98825,     0.98825,     0.98825,\n",
       "            0.98825,     0.98825,     0.98825,     0.98825,     0.98825,     0.98825,     0.98825,     0.98825,     0.98825,     0.98825,     0.98825,     0.98825,     0.98825,     0.98825,     0.98825,     0.98825,     0.98825,     0.98825,     0.98825,     0.98825,     0.98825,     0.98825,     0.98825,\n",
       "            0.98825,     0.98825,     0.98825,     0.98806,     0.98779,     0.98751,     0.98727,     0.98727,     0.98727,     0.98727,     0.98727,     0.98727,     0.98727,     0.98727,     0.98727,     0.98727,     0.98727,     0.98727,     0.98727,     0.98727,     0.98727,     0.98727,     0.98727,\n",
       "            0.98727,     0.98727,     0.98727,     0.98727,     0.98727,     0.98727,     0.98727,     0.98727,     0.98727,     0.98727,     0.98727,     0.98727,     0.98727,     0.98727,     0.98727,     0.98727,     0.98727,     0.98727,     0.98727,     0.98727,     0.98727,     0.98727,     0.98727,\n",
       "            0.98727,     0.98727,     0.98727,     0.98727,     0.98727,     0.98727,     0.98727,     0.98727,     0.98727,     0.98727,     0.98727,     0.98727,     0.98727,     0.98727,     0.98727,     0.98727,     0.98727,     0.98727,     0.98727,     0.98727,     0.98674,     0.98629,     0.98629,\n",
       "            0.98629,     0.98629,     0.98629,     0.98629,     0.98629,     0.98629,     0.98629,     0.98629,     0.98629,     0.98629,     0.98629,     0.98629,     0.98629,     0.98629,     0.98629,     0.98629,     0.98629,     0.98629,     0.98629,     0.98629,     0.98629,     0.98629,     0.98629,\n",
       "            0.98629,     0.98629,     0.98629,     0.98629,     0.98629,     0.98629,     0.98629,     0.98629,     0.98629,     0.98629,     0.98629,     0.98629,     0.98629,     0.98629,     0.98629,     0.98629,     0.98629,     0.98629,     0.98629,     0.98629,     0.98629,     0.98629,     0.98629,\n",
       "            0.98629,     0.98629,     0.98629,     0.98629,     0.98629,     0.98629,     0.98629,     0.98629,     0.98629,     0.98629,     0.98629,     0.98629,     0.98629,     0.98629,     0.98629,     0.98629,     0.98629,     0.98629,     0.98629,     0.98629,     0.98629,     0.98629,     0.98629,\n",
       "            0.98629,     0.98629,     0.98629,     0.98629,     0.98629,     0.98629,     0.98629,     0.98629,     0.98629,     0.98629,     0.98629,     0.98629,     0.98629,     0.98629,     0.98629,     0.98629,     0.98629,     0.98629,     0.98629,     0.98629,     0.98629,     0.98629,     0.98629,\n",
       "            0.98629,     0.98629,     0.98629,     0.98629,     0.98629,     0.98629,     0.98629,     0.98629,     0.98629,     0.98629,     0.98629,     0.98629,     0.98629,     0.98629,     0.98629,     0.98629,     0.98629,     0.98629,     0.98629,     0.98629,     0.98629,     0.98629,     0.98629,\n",
       "            0.98629,     0.98629,     0.98629,     0.98629,     0.98629,     0.98629,     0.98629,     0.98629,     0.98629,     0.98629,     0.98629,     0.98629,     0.98629,     0.98629,     0.98629,     0.98629,     0.98629,     0.98629,     0.98629,     0.98629,     0.98629,     0.98629,     0.98629,\n",
       "            0.98629,     0.98629,     0.98629,     0.98623,     0.98565,     0.98521,     0.98496,     0.98471,     0.98446,     0.98433,     0.98433,     0.98433,     0.98433,     0.98433,     0.98433,     0.98433,     0.98433,     0.98433,     0.98433,     0.98433,     0.98433,     0.98433,     0.98433,\n",
       "            0.98433,     0.98433,     0.98433,     0.98433,     0.98433,     0.98433,     0.98433,     0.98433,     0.98433,     0.98433,     0.98433,     0.98433,     0.98433,     0.98433,     0.98433,     0.98433,     0.98433,     0.98433,     0.98433,     0.98433,     0.98433,     0.98425,     0.98404,\n",
       "            0.98383,     0.98362,      0.9834,     0.98335,     0.98335,     0.98335,     0.98335,     0.98335,     0.98335,     0.98335,     0.98335,     0.98335,     0.98335,     0.98335,     0.98335,     0.98335,     0.98335,     0.98335,     0.98335,     0.98335,     0.98335,     0.98335,     0.98335,\n",
       "            0.98335,     0.98335,     0.98335,     0.98335,     0.98335,     0.98335,     0.98335,     0.98335,     0.98335,     0.98335,     0.98335,     0.98335,     0.98335,     0.98335,     0.98335,     0.98335,     0.98335,     0.98335,     0.98335,     0.98335,     0.98335,     0.98335,     0.98335,\n",
       "            0.98335,     0.98335,     0.98335,     0.98335,     0.98335,     0.98335,     0.98335,     0.98335,     0.98335,     0.98335,     0.98335,     0.98335,     0.98335,     0.98335,     0.98335,     0.98324,     0.98299,     0.98273,     0.98248,     0.98237,     0.98237,     0.98237,     0.98237,\n",
       "            0.98237,     0.98237,     0.98237,     0.98237,     0.98237,     0.98237,     0.98237,     0.98237,     0.98237,     0.98237,     0.98237,     0.98237,     0.98237,     0.98237,     0.98237,     0.98237,     0.98237,     0.98237,     0.98237,     0.98237,     0.98237,     0.98237,     0.98237,\n",
       "            0.98237,     0.98237,     0.98237,     0.98237,     0.98237,     0.98237,     0.98237,     0.98237,     0.98237,     0.98237,     0.98237,     0.98237,     0.98237,     0.98237,     0.98237,     0.98237,     0.98237,     0.98237,     0.98237,     0.98237,     0.98237,     0.98237,     0.98237,\n",
       "            0.98237,     0.98237,     0.98237,     0.98237,     0.98237,     0.98237,     0.98237,     0.98237,     0.98237,     0.98237,     0.98237,     0.98237,     0.98139,     0.98139,     0.98139,     0.98139,     0.98139,     0.98139,     0.98139,     0.98139,     0.98139,     0.98139,     0.98139,\n",
       "            0.98139,     0.98139,     0.98139,     0.98139,     0.98139,     0.98139,     0.98139,     0.98139,     0.98139,     0.98139,     0.98139,     0.98139,     0.98139,     0.98139,     0.98121,     0.98096,     0.98071,     0.98046,     0.98041,     0.98041,     0.98041,     0.98041,     0.98041,\n",
       "            0.98041,     0.98041,     0.98041,     0.98041,     0.98041,     0.98041,     0.98041,     0.98041,     0.98023,     0.97994,     0.97965,     0.97943,     0.97943,     0.97943,     0.97943,     0.97943,     0.97943,     0.97943,     0.97943,     0.97943,     0.97943,     0.97935,     0.97926,\n",
       "            0.97917,     0.97909,       0.979,     0.97891,     0.97882,     0.97874,     0.97865,     0.97856,     0.97847,     0.97845,     0.97845,     0.97845,     0.97845,     0.97845,     0.97845,     0.97845,     0.97845,     0.97845,     0.97845,     0.97845,     0.97845,     0.97845,     0.97845,\n",
       "            0.97845,     0.97845,     0.97845,     0.97845,     0.97845,     0.97845,     0.97845,     0.97845,     0.97845,     0.97845,     0.97845,     0.97845,     0.97845,     0.97845,     0.97845,     0.97845,     0.97845,     0.97845,     0.97845,     0.97845,     0.97845,     0.97845,     0.97845,\n",
       "            0.97845,     0.97845,     0.97845,     0.97845,     0.97845,     0.97843,     0.97836,     0.97829,     0.97822,     0.97814,     0.97807,       0.978,     0.97793,     0.97786,     0.97778,     0.97771,     0.97764,     0.97757,      0.9775,     0.97741,     0.97731,     0.97721,     0.97711,\n",
       "            0.97701,     0.97691,     0.97681,      0.9767,      0.9766,      0.9765,     0.97649,     0.97649,     0.97649,     0.97649,     0.97649,     0.97649,     0.97649,     0.97649,     0.97649,     0.97649,     0.97649,     0.97649,     0.97649,     0.97649,     0.97649,     0.97649,     0.97649,\n",
       "            0.97649,     0.97621,     0.97588,     0.97554,     0.97551,     0.97551,     0.97551,     0.97551,     0.97551,     0.97551,     0.97551,     0.97551,     0.97551,     0.97549,     0.97536,     0.97522,     0.97509,     0.97496,     0.97482,     0.97469,     0.97456,     0.97447,     0.97439,\n",
       "            0.97431,     0.97423,     0.97415,     0.97407,     0.97398,      0.9739,     0.97382,     0.97374,     0.97366,     0.97358,     0.97334,       0.973,     0.97267,     0.97252,     0.97245,     0.97237,      0.9723,     0.97222,     0.97215,     0.97208,       0.972,     0.97193,     0.97185,\n",
       "            0.97178,      0.9717,     0.97163,     0.97152,     0.97139,     0.97125,     0.97112,     0.97099,     0.97085,     0.97072,     0.97038,     0.96964,     0.96964,     0.96964,     0.96964,     0.96964,     0.96964,     0.96964,     0.96964,     0.96964,     0.96964,     0.96964,     0.96964,\n",
       "            0.96964,     0.96964,     0.96964,     0.96964,     0.96964,     0.96964,     0.96964,     0.96964,     0.96964,     0.96964,     0.96964,     0.96964,     0.96964,     0.96964,     0.96964,     0.96943,     0.96921,     0.96899,     0.96876,      0.9666,     0.96642,     0.96624,     0.96605,\n",
       "            0.96587,     0.96572,     0.96572,     0.96572,     0.96572,     0.96572,     0.96572,     0.96572,     0.96572,     0.96572,     0.96572,     0.96566,     0.96552,     0.96537,     0.96523,     0.96509,     0.96494,      0.9648,     0.96474,     0.96474,     0.96474,     0.96474,     0.96474,\n",
       "            0.96474,     0.96474,     0.96474,     0.96474,     0.96474,     0.96457,     0.96407,     0.96357,     0.96307,     0.96274,     0.96264,     0.96254,     0.96244,     0.96234,     0.96224,     0.96214,     0.96204,     0.96193,     0.96183,     0.96157,     0.96124,     0.96091,     0.96052,\n",
       "            0.96012,     0.95983,     0.95978,     0.95973,     0.95968,     0.95963,     0.95958,     0.95953,     0.95949,     0.95944,     0.95939,     0.95934,     0.95929,     0.95924,     0.95919,     0.95914,     0.95909,     0.95904,       0.959,     0.95895,      0.9589,     0.95874,     0.95834,\n",
       "            0.95793,     0.95766,     0.95741,     0.95716,     0.95691,     0.95673,     0.95654,     0.95636,     0.95618,       0.956,     0.95575,     0.95546,     0.95518,     0.95475,     0.95393,     0.95378,     0.95362,     0.95347,     0.95332,     0.95316,     0.95301,      0.9524,     0.95159,\n",
       "            0.95093,     0.95071,     0.95048,     0.95026,     0.95004,     0.94984,     0.94964,     0.94944,     0.94924,     0.94873,     0.94684,     0.94644,     0.94607,     0.94582,     0.94557,     0.94532,     0.94507,     0.94482,     0.94456,     0.94431,     0.94395,     0.94345,     0.94271,\n",
       "             0.9417,     0.93825,     0.93627,     0.93531,     0.93481,     0.93409,     0.93029,     0.92909,     0.92513,     0.92287,     0.92111,     0.91988,     0.91611,     0.91215,     0.91014,     0.90705,     0.90164,     0.89966,     0.89819,     0.88933,      0.8834,      0.8765,     0.87057,\n",
       "            0.86465,     0.85382,      0.8479,     0.83609,     0.82723,     0.81837,     0.81048,     0.79672,     0.78688,     0.77899,     0.77013,     0.75343,     0.73183,      0.7122,     0.69158,     0.67292,      0.6572,      0.6405,     0.61793,     0.60221,     0.57963,     0.56587,      0.5384,\n",
       "            0.50505,     0.47268,     0.43835,     0.39814,     0.35696,     0.32067,     0.28144,     0.23536,     0.20887,     0.18531,     0.14315,      0.1049,    0.073507,    0.054849,    0.034232,    0.019492,    0.013566,   0.0092071,   0.0036736,           0,           0,           0,           0,\n",
       "                  0,           0,           0,           0,           0,           0,           0,           0,           0,           0,           0]]), 'Confidence', 'Recall']]\n",
       "fitness: 0.983770809986382\n",
       "keys: ['metrics/precision(B)', 'metrics/recall(B)', 'metrics/mAP50(B)', 'metrics/mAP50-95(B)']\n",
       "maps: array([    0.98263])\n",
       "names: {0: 'Soup'}\n",
       "nt_per_class: array([1021])\n",
       "nt_per_image: array([739])\n",
       "results_dict: {'metrics/precision(B)': 0.9882530320812959, 'metrics/recall(B)': 0.9764936336924583, 'metrics/mAP50(B)': 0.9940154482889375, 'metrics/mAP50-95(B)': 0.9826325168416536, 'fitness': 0.983770809986382}\n",
       "save_dir: PosixPath('runs/detect/train')\n",
       "speed: {'preprocess': 0.3148509486891271, 'inference': 21.806247835513062, 'loss': 0.005923344742529336, 'postprocess': 1.7260718539414723}\n",
       "stats: {'tp': [], 'conf': [], 'pred_cls': [], 'target_cls': [], 'target_img': []}\n",
       "task: 'detect'"
      ]
     },
     "execution_count": 5,
     "metadata": {},
     "output_type": "execute_result"
    }
   ],
   "source": [
    "model = YOLO(\"yolo11m.pt\")\n",
    "data_yaml = \"/kaggle/working/yolo_params.yaml\"\n",
    "\n",
    "model.train(\n",
    "    data=data_yaml,\n",
    "    epochs=10,                \n",
    "    batch=4,                   \n",
    "    imgsz=1056,\n",
    "    patience=150,               \n",
    "    optimizer='SGD',\n",
    "    momentum=0.937,          \n",
    "    lr0=0.001,                \n",
    "    weight_decay=0.0005,       \n",
    "    cos_lr=True,               \n",
    "    save_period=1,             \n",
    "    workers=8,\n",
    "    # Augmentations\n",
    "    close_mosaic=20,\n",
    "    hsv_h=0.015,\n",
    "    hsv_s=0.7,\n",
    "    hsv_v=0.4,\n",
    "    flipud=0.5,\n",
    "    fliplr=0.5,\n",
    "    translate=0.1,\n",
    "    scale=0.5,\n",
    "    shear=0.01\n",
    ")"
   ]
  },
  {
   "cell_type": "code",
   "execution_count": 6,
   "id": "6ebd4958",
   "metadata": {
    "execution": {
     "iopub.execute_input": "2025-07-12T09:16:29.292721Z",
     "iopub.status.busy": "2025-07-12T09:16:29.292402Z",
     "iopub.status.idle": "2025-07-12T09:17:23.531380Z",
     "shell.execute_reply": "2025-07-12T09:17:23.530534Z"
    },
    "papermill": {
     "duration": 56.761652,
     "end_time": "2025-07-12T09:17:24.784367",
     "exception": false,
     "start_time": "2025-07-12T09:16:28.022715",
     "status": "completed"
    },
    "tags": []
   },
   "outputs": [
    {
     "name": "stdout",
     "output_type": "stream",
     "text": [
      "[notice] ✅ Predictions saved: /kaggle/working/predictions/labels\n"
     ]
    }
   ],
   "source": [
    "model = YOLO(\"/kaggle/working/runs/detect/train/weights/best.pt\")\n",
    "\n",
    "test_images_path = \"/kaggle/input/multi-instance-object-detection-challenge/Starter_Dataset/TestImages/images\"\n",
    "output_dir = \"/kaggle/working/predictions/labels\"\n",
    "\n",
    "conf=0.0001\n",
    "\n",
    "def predict(test_images_path, output_dir , model, conf):\n",
    "    os.makedirs(output_dir, exist_ok=True)\n",
    "    model.eval()\n",
    "    model.training = False\n",
    "    for img_path in Path(test_images_path).glob(\"*\"):\n",
    "        if img_path.suffix.lower() not in ['.png', '.jpg', '.jpeg']:\n",
    "            continue\n",
    "    \n",
    "        results = model.predict(img_path, conf=conf, augment=True, iou=0.4, max_det=600, verbose=False)  \n",
    "        \n",
    "        output_txt = Path(output_dir) / f\"{img_path.stem}.txt\"\n",
    "    \n",
    "        with open(output_txt, \"w\") as f:\n",
    "            for result in results:\n",
    "                img_height, img_width = result.orig_shape\n",
    "                for box in result.boxes.data:\n",
    "                    x1, y1, x2, y2, confidence, cls_id = box.tolist()\n",
    "    \n",
    "                    x_center = ((x1 + x2) / 2) / img_width\n",
    "                    y_center = ((y1 + y2) / 2) / img_height\n",
    "                    width = (x2 - x1) / img_width\n",
    "                    height = (y2 - y1) / img_height\n",
    "    \n",
    "                    f.write(f\"0 {confidence:.6f} {x_center:.6f} {y_center:.6f} {width:.6f} {height:.6f}\\n\")\n",
    "    \n",
    "    print(f\"[notice] ✅ Predictions saved: {output_dir}\")\n",
    "predict(test_images_path, output_dir , model, conf)"
   ]
  },
  {
   "cell_type": "code",
   "execution_count": 7,
   "id": "4f1b8fbe",
   "metadata": {
    "execution": {
     "iopub.execute_input": "2025-07-12T09:17:27.247202Z",
     "iopub.status.busy": "2025-07-12T09:17:27.246887Z",
     "iopub.status.idle": "2025-07-12T09:17:27.307488Z",
     "shell.execute_reply": "2025-07-12T09:17:27.306644Z"
    },
    "papermill": {
     "duration": 1.23466,
     "end_time": "2025-07-12T09:17:27.308685",
     "exception": false,
     "start_time": "2025-07-12T09:17:26.074025",
     "status": "completed"
    },
    "tags": []
   },
   "outputs": [
    {
     "name": "stdout",
     "output_type": "stream",
     "text": [
      "   image_id                                  prediction_string\n",
      "0  IMG_9739  0 0.966308 0.178656 0.659910 0.304898 0.444785...\n",
      "1  IMG_9721  0 0.966872 0.626559 0.672425 0.148692 0.179362...\n",
      "2  IMG_9787  0 0.958117 0.575858 0.312043 0.047019 0.104097...\n",
      "3  IMG_9636  0 0.985332 0.645029 0.627094 0.120642 0.201542...\n",
      "4  IMG_9773  0 0.940645 0.352912 0.774163 0.032285 0.065712...\n",
      "5  IMG_9618  0 0.979862 0.371084 0.738629 0.185067 0.219681...\n",
      "6  IMG_9621  0 0.969845 0.281797 0.703377 0.291019 0.345015...\n",
      "7  IMG_9740  0 0.978620 0.338172 0.588835 0.111748 0.162160...\n",
      "8  IMG_9785  0 0.967875 0.574419 0.229472 0.073226 0.148235...\n",
      "9  IMG_9700  0 0.969870 0.530899 0.413692 0.093558 0.198100...\n",
      "[notice] ✅ Submission saved to /kaggle/working/submission.csv\n"
     ]
    }
   ],
   "source": [
    "# Convert predictions to CSV\n",
    "def predictions_to_csv(\n",
    "    preds_folder: str = \"/kaggle/working/predictions/labels\", \n",
    "    output_csv: str = \"/kaggle/working/submission.csv\", \n",
    "    test_images_folder: str = \"/kaggle/input/multi-instance-object-detection-challenge/Starter_Dataset/TestImages/images\",\n",
    "    allowed_extensions: tuple = (\".jpg\", \".png\", \".jpeg\")\n",
    "):\n",
    "    preds_path = Path(preds_folder)\n",
    "    test_images_path = Path(test_images_folder)\n",
    "\n",
    "    test_images = {p.stem for p in test_images_path.glob(\"*\") if p.suffix.lower() in allowed_extensions}\n",
    "\n",
    "    predictions = []\n",
    "    predicted_images = set()\n",
    "\n",
    "    for txt_file in preds_path.glob(\"*.txt\"):\n",
    "        image_id = txt_file.stem\n",
    "        predicted_images.add(image_id)\n",
    "\n",
    "        with open(txt_file, \"r\") as f:\n",
    "            valid_lines = [line.strip() for line in f if len(line.strip().split()) == 6]\n",
    "\n",
    "        pred_str = \" \".join(valid_lines) if valid_lines else \"no boxes\"\n",
    "        predictions.append({\"image_id\": image_id, \"prediction_string\": pred_str})\n",
    "\n",
    "    missing_images = test_images - predicted_images\n",
    "    for image_id in missing_images:\n",
    "        predictions.append({\"image_id\": image_id, \"prediction_string\": \"no boxes\"})\n",
    "\n",
    "    submission_df = pd.DataFrame(predictions)\n",
    "    submission_df.to_csv(output_csv, index=False, quoting=csv.QUOTE_MINIMAL)\n",
    "    print(submission_df.head(10))\n",
    "    print(f\"[notice] ✅ Submission saved to {output_csv}\")\n",
    "\n",
    "predictions_to_csv()"
   ]
  },
  {
   "cell_type": "code",
   "execution_count": 8,
   "id": "ce843dd4",
   "metadata": {
    "execution": {
     "iopub.execute_input": "2025-07-12T09:17:29.840246Z",
     "iopub.status.busy": "2025-07-12T09:17:29.839562Z",
     "iopub.status.idle": "2025-07-12T09:17:29.853330Z",
     "shell.execute_reply": "2025-07-12T09:17:29.852782Z"
    },
    "papermill": {
     "duration": 1.273145,
     "end_time": "2025-07-12T09:17:29.854392",
     "exception": false,
     "start_time": "2025-07-12T09:17:28.581247",
     "status": "completed"
    },
    "tags": []
   },
   "outputs": [],
   "source": [
    "def filter_invalid_boxes(boxes, scores, labels):\n",
    "    filtered_boxes, filtered_scores, filtered_labels = [], [], []\n",
    "    for b, s, l in zip(boxes, scores, labels):\n",
    "        if abs(b[2] - b[0]) > 1e-6 and abs(b[3] - b[1]) > 1e-6:\n",
    "            filtered_boxes.append(b)\n",
    "            filtered_scores.append(s)\n",
    "            filtered_labels.append(l)\n",
    "    return filtered_boxes, filtered_scores, filtered_labels\n",
    "    \n",
    "def run_inference(models, image_sizes, test_images_path):\n",
    "    image_paths = [p for p in Path(test_images_path).glob(\"*\") if p.suffix.lower() in [\".jpg\", \".jpeg\", \".png\"]]\n",
    "    predictions = {}\n",
    "\n",
    "    for model_idx, model in enumerate(models):\n",
    "        model.eval()\n",
    "        predictions[model_idx] = {}\n",
    "        for size in image_sizes:\n",
    "            predictions[model_idx][size] = {}\n",
    "            pred = []\n",
    "            for img_path in image_paths:\n",
    "                image_id = img_path.stem\n",
    "                image = Image.open(img_path)\n",
    "                img_width, img_height = image.size\n",
    "\n",
    "                results = model.predict(source=str(img_path), conf=conf,iou=0.4, max_det=600, augment=True, imgsz=size, verbose=False)\n",
    "                boxes, scores, labels = [], [], []\n",
    "\n",
    "                for result in results:\n",
    "                    if result.boxes is None:\n",
    "                        continue\n",
    "                    boxes = result.boxes.xyxy.cpu().numpy().tolist()\n",
    "                    scores = result.boxes.conf.cpu().numpy().tolist()\n",
    "                    labels = result.boxes.cls.cpu().numpy().tolist()\n",
    "\n",
    "                    norm_boxes = [\n",
    "                        [x1 / img_width, y1 / img_height, x2 / img_width, y2 / img_height]\n",
    "                        for x1, y1, x2, y2 in boxes\n",
    "                    ]\n",
    "                    norm_boxes, scores, labels = filter_invalid_boxes(norm_boxes, scores, labels)\n",
    "\n",
    "                predictions[model_idx][size][image_id] = {\n",
    "                    \"boxes\": norm_boxes,\n",
    "                    \"scores\": scores,\n",
    "                    \"labels\": labels\n",
    "                }\n",
    "                \n",
    "                if boxes:\n",
    "                    prediction_string = \" \".join(\n",
    "                        f\"{int(lbl)} {score:.6f} {(b[0]+b[2])/2:.6f} {(b[1]+b[3])/2:.6f} {(b[2]-b[0]):.6f} {(b[3]-b[1]):.6f}\"\n",
    "                        for b, score, lbl in zip(norm_boxes, scores, labels)\n",
    "                    )\n",
    "                else:\n",
    "                    prediction_string = \"no boxes\"\n",
    "\n",
    "                pred.append({\n",
    "                    \"image_id\": image_id,\n",
    "                    \"prediction_string\": prediction_string\n",
    "                })\n",
    "\n",
    "            # Save CSV per model and size\n",
    "            df = pd.DataFrame(pred)\n",
    "            csv_path = f\"submission_{model_idx}_{size}.csv\"\n",
    "            df.to_csv(csv_path, index=False, quoting=csv.QUOTE_MINIMAL)\n",
    "            print(f\"[saved] {csv_path}\")\n",
    "            print(df.head(10))\n",
    "\n",
    "    return predictions\n",
    "\n",
    "def apply_wbf_and_save_final_submission(predictions, image_ids, output_path=\"submission_wbf.csv\"):\n",
    "    wbf_results = []\n",
    "\n",
    "    for image_id in image_ids:\n",
    "        all_boxes, all_scores, all_labels = [], [], []\n",
    "\n",
    "        for model_preds in predictions.values():\n",
    "            for size_preds in model_preds.values():\n",
    "                if image_id not in size_preds:\n",
    "                    continue\n",
    "                pred = size_preds[image_id]\n",
    "                if not pred[\"boxes\"]:\n",
    "                    continue\n",
    "                all_boxes.append(pred[\"boxes\"])\n",
    "                all_scores.append(pred[\"scores\"])\n",
    "                all_labels.append(pred[\"labels\"])\n",
    "\n",
    "        if not all_boxes:\n",
    "            pred_str = \"no boxes\"\n",
    "        else:\n",
    "            fused_boxes, fused_scores, fused_labels = weighted_boxes_fusion(\n",
    "                all_boxes, all_scores, all_labels, iou_thr=iou_thr, skip_box_thr=skip_box_thr\n",
    "            )\n",
    "\n",
    "            pred_str = \" \".join(\n",
    "                f\"{int(lbl)} {score:.6f} {(b[0]+b[2])/2:.6f} {(b[1]+b[3])/2:.6f} {(b[2]-b[0]):.6f} {(b[3]-b[1]):.6f}\"\n",
    "                for b, score, lbl in zip(fused_boxes, fused_scores, fused_labels)\n",
    "            )\n",
    "\n",
    "        wbf_results.append({\n",
    "            \"image_id\": image_id,\n",
    "            \"prediction_string\": pred_str\n",
    "        })\n",
    "\n",
    "    wbf_df = pd.DataFrame(wbf_results)\n",
    "    wbf_df.to_csv(output_path, index=False, quoting=csv.QUOTE_MINIMAL)\n",
    "    print(f\"[notice] ✅ WBF submission saved to {output_path}\")\n",
    "    print(wbf_df.head(10))\n",
    "\n"
   ]
  },
  {
   "cell_type": "code",
   "execution_count": 9,
   "id": "97ecf000",
   "metadata": {
    "execution": {
     "iopub.execute_input": "2025-07-12T09:17:32.350872Z",
     "iopub.status.busy": "2025-07-12T09:17:32.350187Z",
     "iopub.status.idle": "2025-07-12T09:24:02.266636Z",
     "shell.execute_reply": "2025-07-12T09:24:02.265767Z"
    },
    "papermill": {
     "duration": 392.380997,
     "end_time": "2025-07-12T09:24:03.482003",
     "exception": false,
     "start_time": "2025-07-12T09:17:31.101006",
     "status": "completed"
    },
    "tags": []
   },
   "outputs": [
    {
     "name": "stdout",
     "output_type": "stream",
     "text": [
      "[saved] submission_0_1056.csv\n",
      "   image_id                                  prediction_string\n",
      "0  IMG_9602  0 0.979048 0.751044 0.414001 0.137646 0.232900...\n",
      "1  IMG_9594  0 0.980289 0.377842 0.685819 0.100592 0.133639...\n",
      "2  IMG_9717  0 0.970737 0.675509 0.837135 0.103430 0.247215...\n",
      "3  IMG_9703  0 0.966215 0.349797 0.298296 0.074875 0.159365...\n",
      "4  IMG_9780  0 0.977819 0.525275 0.492996 0.204275 0.436754...\n",
      "5  IMG_9617  0 0.959200 0.346113 0.632760 0.133522 0.195139...\n",
      "6  IMG_9788  0 0.971883 0.337447 0.488986 0.081239 0.166027...\n",
      "7  IMG_9786  0 0.955648 0.513414 0.334809 0.047593 0.102705...\n",
      "8  IMG_9769  0 0.974109 0.309803 0.548142 0.319678 0.686106...\n",
      "9  IMG_9588  0 0.976255 0.884056 0.405728 0.109969 0.138087...\n",
      "[saved] submission_0_1440.csv\n",
      "   image_id                                  prediction_string\n",
      "0  IMG_9602  0 0.976509 0.750919 0.413694 0.137876 0.233863...\n",
      "1  IMG_9594  0 0.979818 0.377823 0.685302 0.100007 0.133934...\n",
      "2  IMG_9717  0 0.964238 0.322737 0.552359 0.051268 0.099829...\n",
      "3  IMG_9703  0 0.969673 0.350404 0.297503 0.075767 0.159680...\n",
      "4  IMG_9780  0 0.983034 0.524832 0.491675 0.204301 0.431308...\n",
      "5  IMG_9617  0 0.954651 0.347385 0.631905 0.136176 0.196755...\n",
      "6  IMG_9788  0 0.976352 0.337351 0.489440 0.082072 0.166263...\n",
      "7  IMG_9786  0 0.962333 0.513086 0.334872 0.048994 0.103680...\n",
      "8  IMG_9769  0 0.964759 0.309735 0.548621 0.316207 0.681047...\n",
      "9  IMG_9588  0 0.975585 0.884030 0.405574 0.110426 0.138861...\n",
      "[saved] submission_0_1920.csv\n",
      "   image_id                                  prediction_string\n",
      "0  IMG_9602  0 0.973450 0.421562 0.409107 0.123334 0.230869...\n",
      "1  IMG_9594  0 0.980373 0.378353 0.685511 0.100649 0.134277...\n",
      "2  IMG_9717  0 0.969429 0.360666 0.632947 0.058498 0.076746...\n",
      "3  IMG_9703  0 0.960783 0.350416 0.298167 0.075434 0.160366...\n",
      "4  IMG_9780  0 0.971028 0.273711 0.391073 0.119246 0.226018...\n",
      "5  IMG_9617  0 0.943468 0.349045 0.632221 0.137687 0.196205...\n",
      "6  IMG_9788  0 0.977430 0.712152 0.252680 0.096966 0.115932...\n",
      "7  IMG_9786  0 0.961300 0.352057 0.439080 0.058944 0.083021...\n",
      "8  IMG_9769  0 0.948528 0.310303 0.542853 0.311382 0.671006...\n",
      "9  IMG_9588  0 0.975837 0.883837 0.405277 0.109886 0.138639...\n",
      "[saved] submission_0_2560.csv\n",
      "   image_id                                  prediction_string\n",
      "0  IMG_9602  0 0.971396 0.421282 0.409246 0.124331 0.230892...\n",
      "1  IMG_9594  0 0.972874 0.377723 0.685398 0.100404 0.134119...\n",
      "2  IMG_9717  0 0.969769 0.676343 0.836699 0.104153 0.246956...\n",
      "3  IMG_9703  0 0.963494 0.350115 0.298788 0.074952 0.161876...\n",
      "4  IMG_9780  0 0.971206 0.273960 0.392577 0.120406 0.228171...\n",
      "5  IMG_9617  0 0.950041 0.346545 0.632737 0.134477 0.195369...\n",
      "6  IMG_9788  0 0.975304 0.637832 0.364919 0.088535 0.178176...\n",
      "7  IMG_9786  0 0.963332 0.351707 0.438906 0.057963 0.083101...\n",
      "8  IMG_9769  0 0.903568 0.315890 0.448878 0.327678 0.487906...\n",
      "9  IMG_9588  0 0.978050 0.884355 0.405644 0.109863 0.140185...\n",
      "[saved] submission_0_3200.csv\n",
      "   image_id                                  prediction_string\n",
      "0  IMG_9602  0 0.966242 0.421373 0.410180 0.123673 0.233455...\n",
      "1  IMG_9594  0 0.964091 0.377968 0.684888 0.100497 0.134158...\n",
      "2  IMG_9717  0 0.969067 0.360404 0.633296 0.057524 0.075769...\n",
      "3  IMG_9703  0 0.963739 0.350647 0.299591 0.074832 0.162303...\n",
      "4  IMG_9780  0 0.962561 0.273311 0.392466 0.119622 0.227043...\n",
      "5  IMG_9617  0 0.906337 0.559965 0.501467 0.071725 0.163578...\n",
      "6  IMG_9788  0 0.971268 0.337400 0.489591 0.081933 0.164364...\n",
      "7  IMG_9786  0 0.963597 0.351992 0.439037 0.058629 0.083571...\n",
      "8  IMG_9769  0 0.686607 0.301155 0.400112 0.308017 0.391625...\n",
      "9  IMG_9588  0 0.969382 0.884221 0.405702 0.109858 0.138994...\n",
      "[notice] ✅ WBF submission saved to submission_wbf.csv\n",
      "   image_id                                  prediction_string\n",
      "0  IMG_9602  0 0.972374 0.421247 0.409528 0.123771 0.231942...\n",
      "1  IMG_9594  0 0.975489 0.377942 0.685385 0.100430 0.134025...\n",
      "2  IMG_9717  0 0.965249 0.360604 0.633110 0.058243 0.076693...\n",
      "3  IMG_9703  0 0.964781 0.350276 0.298468 0.075173 0.160716...\n",
      "4  IMG_9780  0 0.968207 0.273499 0.392123 0.119388 0.227130...\n",
      "5  IMG_9617  0 0.939684 0.347016 0.632442 0.135111 0.195707...\n",
      "6  IMG_9788  0 0.973468 0.337329 0.489364 0.081761 0.165655...\n",
      "7  IMG_9786  0 0.957588 0.513392 0.335135 0.047799 0.104467...\n",
      "8  IMG_9769  0 0.895514 0.309797 0.504394 0.316999 0.596664...\n",
      "9  IMG_9588  0 0.975022 0.884100 0.405585 0.110001 0.138954...\n"
     ]
    }
   ],
   "source": [
    "import os\n",
    "from pathlib import Path\n",
    "import pandas as pd\n",
    "import csv\n",
    "from ultralytics import YOLO\n",
    "from ensemble_boxes import weighted_boxes_fusion\n",
    "from PIL import Image\n",
    "\n",
    "model_paths = [\n",
    "    \"/kaggle/working/runs/detect/train/weights/best.pt\",\n",
    "    # \"/kaggle/working/runs/detect/train/weights/last.pt\",\n",
    "]\n",
    "\n",
    "test_images_path = \"/kaggle/input/multi-instance-object-detection-challenge/Starter_Dataset/TestImages/images\"\n",
    "output_dir = \"/kaggle/working/predictions/labels\"\n",
    "conf = 0.0001\n",
    "iou_thr = 0.5\n",
    "skip_box_thr = 0.01\n",
    "image_sizes = [1056, 1440, 1920, 2560, 3200]\n",
    "\n",
    "models = [YOLO(path) for path in model_paths]\n",
    "predictions = run_inference(models, image_sizes, test_images_path)\n",
    "\n",
    "image_ids = list(next(iter(next(iter(predictions.values())).values())).keys())\n",
    "\n",
    "apply_wbf_and_save_final_submission(predictions, image_ids)"
   ]
  },
  {
   "cell_type": "code",
   "execution_count": null,
   "id": "a92b127e",
   "metadata": {
    "papermill": {
     "duration": 1.282493,
     "end_time": "2025-07-12T09:24:06.013663",
     "exception": false,
     "start_time": "2025-07-12T09:24:04.731170",
     "status": "completed"
    },
    "tags": []
   },
   "outputs": [],
   "source": []
  },
  {
   "cell_type": "code",
   "execution_count": null,
   "id": "aa2c8ed3",
   "metadata": {
    "papermill": {
     "duration": 1.236343,
     "end_time": "2025-07-12T09:24:08.413948",
     "exception": false,
     "start_time": "2025-07-12T09:24:07.177605",
     "status": "completed"
    },
    "tags": []
   },
   "outputs": [],
   "source": []
  }
 ],
 "metadata": {
  "kaggle": {
   "accelerator": "gpu",
   "dataSources": [
    {
     "databundleVersionId": 12610790,
     "sourceId": 104781,
     "sourceType": "competition"
    },
    {
     "databundleVersionId": 12837362,
     "datasetId": 7743083,
     "sourceId": 12286298,
     "sourceType": "datasetVersion"
    }
   ],
   "dockerImageVersionId": 31090,
   "isGpuEnabled": true,
   "isInternetEnabled": true,
   "language": "python",
   "sourceType": "notebook"
  },
  "kernelspec": {
   "display_name": "Python 3",
   "language": "python",
   "name": "python3"
  },
  "language_info": {
   "codemirror_mode": {
    "name": "ipython",
    "version": 3
   },
   "file_extension": ".py",
   "mimetype": "text/x-python",
   "name": "python",
   "nbconvert_exporter": "python",
   "pygments_lexer": "ipython3",
   "version": "3.11.13"
  },
  "papermill": {
   "default_parameters": {},
   "duration": 8475.1457,
   "end_time": "2025-07-12T09:24:13.177405",
   "environment_variables": {},
   "exception": null,
   "input_path": "__notebook__.ipynb",
   "output_path": "__notebook__.ipynb",
   "parameters": {},
   "start_time": "2025-07-12T07:02:58.031705",
   "version": "2.6.0"
  }
 },
 "nbformat": 4,
 "nbformat_minor": 5
}
